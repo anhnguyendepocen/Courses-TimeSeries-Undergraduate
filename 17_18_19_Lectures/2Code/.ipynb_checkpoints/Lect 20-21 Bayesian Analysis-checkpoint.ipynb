{
 "cells": [
  {
   "cell_type": "markdown",
   "metadata": {},
   "source": [
    "## Lecture 20-21 Bayesian Analysis"
   ]
  },
  {
   "cell_type": "code",
   "execution_count": null,
   "metadata": {},
   "outputs": [],
   "source": [
    "dic_example={'Name': 'Pepe'}"
   ]
  },
  {
   "cell_type": "markdown",
   "metadata": {},
   "source": [
    "### Outline\n",
    "* In this lecture, we apply three different methods to estimate AR(1) coeffients -- Maximum Likelihood, OLS and Bayesian Analysis. Here, we use the time series data of GDP and takes the first order differentiation of logGDP to create a series that approximately follows AR(1).\n",
    "* AR(1): $X_t =\\mu + \\phi X_{t-1} + \\epsilon_t$\n",
    "    * Coefficients are $\\mu$ and $\\phi$\n",
    "\n"
   ]
  },
  {
   "cell_type": "markdown",
   "metadata": {},
   "source": [
    "Import all the libraries required in this lecture."
   ]
  },
  {
   "cell_type": "code",
   "execution_count": 11,
   "metadata": {},
   "outputs": [],
   "source": [
    "import pandas as pd\n",
    "import numpy as np\n",
    "import statsmodels.api as sm\n",
    "from statsmodels.tsa.tsatools import lagmat2ds\n",
    "from scipy import stats\n",
    "import matplotlib.pyplot as plt"
   ]
  },
  {
   "cell_type": "markdown",
   "metadata": {},
   "source": [
    "**Load the data**\n",
    "* We use pandas library to read files. The method name corresponds to the type of file. e.g. For excel files: pd.ExcelFile; for cvs files: pd.cvs.\n",
    "* The argument of pd.ExcelFile is the path of the target file. Here, we use a relative path."
   ]
  },
  {
   "cell_type": "code",
   "execution_count": null,
   "metadata": {},
   "outputs": [],
   "source": [
    "xl = pd.ExcelFile('GDPC1.xls')"
   ]
  },
  {
   "cell_type": "markdown",
   "metadata": {},
   "source": [
    "Print sheet name"
   ]
  },
  {
   "cell_type": "code",
   "execution_count": 12,
   "metadata": {},
   "outputs": [
    {
     "name": "stdout",
     "output_type": "stream",
     "text": [
      "['FRED Graph']\n"
     ]
    }
   ],
   "source": [
    "print(xl.sheet_names)"
   ]
  },
  {
   "cell_type": "markdown",
   "metadata": {},
   "source": [
    "Load the sheet into a DataFrame named \"df1\""
   ]
  },
  {
   "cell_type": "code",
   "execution_count": 13,
   "metadata": {},
   "outputs": [],
   "source": [
    "df1 = xl.parse('FRED Graph')"
   ]
  },
  {
   "cell_type": "markdown",
   "metadata": {},
   "source": [
    "Set up dates\n",
    "* df1['variable name']: input the name of that column as specified in the excel file\n",
    "* Calling print(date), we can find the data type of the loaded data (each element) is automatically recognized as datetime. \"dtype: datetime64[ns]\"\n",
    "* Calling type(date) to check the data type of \"date\". It is pandas.core.series.Series. So we must convert it into numpy.array for further computation."
   ]
  },
  {
   "cell_type": "code",
   "execution_count": 14,
   "metadata": {},
   "outputs": [
    {
     "name": "stdout",
     "output_type": "stream",
     "text": [
      "0     1947-01-01\n",
      "1     1947-04-01\n",
      "2     1947-07-01\n",
      "3     1947-10-01\n",
      "4     1948-01-01\n",
      "5     1948-04-01\n",
      "6     1948-07-01\n",
      "7     1948-10-01\n",
      "8     1949-01-01\n",
      "9     1949-04-01\n",
      "10    1949-07-01\n",
      "11    1949-10-01\n",
      "12    1950-01-01\n",
      "13    1950-04-01\n",
      "14    1950-07-01\n",
      "15    1950-10-01\n",
      "16    1951-01-01\n",
      "17    1951-04-01\n",
      "18    1951-07-01\n",
      "19    1951-10-01\n",
      "20    1952-01-01\n",
      "21    1952-04-01\n",
      "22    1952-07-01\n",
      "23    1952-10-01\n",
      "24    1953-01-01\n",
      "25    1953-04-01\n",
      "26    1953-07-01\n",
      "27    1953-10-01\n",
      "28    1954-01-01\n",
      "29    1954-04-01\n",
      "         ...    \n",
      "250   2009-07-01\n",
      "251   2009-10-01\n",
      "252   2010-01-01\n",
      "253   2010-04-01\n",
      "254   2010-07-01\n",
      "255   2010-10-01\n",
      "256   2011-01-01\n",
      "257   2011-04-01\n",
      "258   2011-07-01\n",
      "259   2011-10-01\n",
      "260   2012-01-01\n",
      "261   2012-04-01\n",
      "262   2012-07-01\n",
      "263   2012-10-01\n",
      "264   2013-01-01\n",
      "265   2013-04-01\n",
      "266   2013-07-01\n",
      "267   2013-10-01\n",
      "268   2014-01-01\n",
      "269   2014-04-01\n",
      "270   2014-07-01\n",
      "271   2014-10-01\n",
      "272   2015-01-01\n",
      "273   2015-04-01\n",
      "274   2015-07-01\n",
      "275   2015-10-01\n",
      "276   2016-01-01\n",
      "277   2016-04-01\n",
      "278   2016-07-01\n",
      "279   2016-10-01\n",
      "Name: Date, Length: 280, dtype: datetime64[ns]\n"
     ]
    },
    {
     "data": {
      "text/plain": [
       "pandas.core.series.Series"
      ]
     },
     "execution_count": 14,
     "metadata": {},
     "output_type": "execute_result"
    }
   ],
   "source": [
    "date = df1['Date']\n",
    "print(date) # python can automatically recognize the datatype as datetime\n",
    "type(date)"
   ]
  },
  {
   "cell_type": "code",
   "execution_count": 16,
   "metadata": {},
   "outputs": [],
   "source": [
    "date = np.array(date)"
   ]
  },
  {
   "cell_type": "markdown",
   "metadata": {},
   "source": [
    "Set up GDP time series and take the first order differentiation"
   ]
  },
  {
   "cell_type": "code",
   "execution_count": 17,
   "metadata": {
    "scrolled": true
   },
   "outputs": [
    {
     "name": "stdout",
     "output_type": "stream",
     "text": [
      "0       1934.5\n",
      "1       1932.3\n",
      "2       1930.3\n",
      "3       1960.7\n",
      "4       1989.5\n",
      "5       2021.9\n",
      "6       2033.2\n",
      "7       2035.3\n",
      "8       2007.5\n",
      "9       2000.8\n",
      "10      2022.8\n",
      "11      2004.7\n",
      "12      2084.6\n",
      "13      2147.6\n",
      "14      2230.4\n",
      "15      2273.4\n",
      "16      2304.5\n",
      "17      2344.5\n",
      "18      2392.8\n",
      "19      2398.1\n",
      "20      2423.5\n",
      "21      2428.5\n",
      "22      2446.1\n",
      "23      2526.4\n",
      "24      2573.4\n",
      "25      2593.5\n",
      "26      2578.9\n",
      "27      2539.8\n",
      "28      2528.0\n",
      "29      2530.7\n",
      "        ...   \n",
      "250    14402.5\n",
      "251    14541.9\n",
      "252    14604.8\n",
      "253    14745.9\n",
      "254    14845.5\n",
      "255    14939.0\n",
      "256    14881.3\n",
      "257    14989.6\n",
      "258    15021.1\n",
      "259    15190.3\n",
      "260    15291.0\n",
      "261    15362.4\n",
      "262    15380.8\n",
      "263    15384.3\n",
      "264    15491.9\n",
      "265    15521.6\n",
      "266    15641.3\n",
      "267    15793.9\n",
      "268    15747.0\n",
      "269    15900.8\n",
      "270    16094.5\n",
      "271    16186.7\n",
      "272    16269.0\n",
      "273    16374.2\n",
      "274    16454.9\n",
      "275    16490.7\n",
      "276    16525.0\n",
      "277    16583.1\n",
      "278    16727.0\n",
      "279    16804.1\n",
      "Name: GDPC1, Length: 280, dtype: float64\n"
     ]
    }
   ],
   "source": [
    "gdp = df1['GDPC1']\n",
    "print(gdp)\n",
    "type(gdp)\n",
    "gdp = np.array(gdp)"
   ]
  },
  {
   "cell_type": "code",
   "execution_count": 19,
   "metadata": {},
   "outputs": [],
   "source": [
    "# Y = 400 * delta log GDP\n",
    "Y = 400 * (np.log(gdp[1:])-np.log(gdp[0:-1]))"
   ]
  },
  {
   "cell_type": "markdown",
   "metadata": {},
   "source": [
    "**Method1: arima package in python (MLE)**\n",
    "* Set trend = 'c' to include estimation of constant ($\\mu$ is not necessarily 0 in this series of data)"
   ]
  },
  {
   "cell_type": "code",
   "execution_count": 44,
   "metadata": {},
   "outputs": [
    {
     "name": "stdout",
     "output_type": "stream",
     "text": [
      "                              ARMA Model Results                              \n",
      "==============================================================================\n",
      "Dep. Variable:                      y   No. Observations:                  279\n",
      "Model:                     ARMA(1, 0)   Log Likelihood                -746.193\n",
      "Method:                       css-mle   S.D. of innovations              3.509\n",
      "Date:                Wed, 03 Apr 2019   AIC                           1498.386\n",
      "Time:                        00:26:25   BIC                           1509.280\n",
      "Sample:                             0   HQIC                          1502.756\n",
      "                                                                              \n",
      "==============================================================================\n",
      "                 coef    std err          z      P>|z|      [0.025      0.975]\n",
      "------------------------------------------------------------------------------\n",
      "const          3.0891      0.334      9.256      0.000       2.435       3.743\n",
      "ar.L1.y        0.3719      0.056      6.697      0.000       0.263       0.481\n",
      "                                    Roots                                    \n",
      "=============================================================================\n",
      "                  Real          Imaginary           Modulus         Frequency\n",
      "-----------------------------------------------------------------------------\n",
      "AR.1            2.6891           +0.0000j            2.6891            0.0000\n",
      "-----------------------------------------------------------------------------\n"
     ]
    },
    {
     "data": {
      "text/html": [
       "<div>\n",
       "<style scoped>\n",
       "    .dataframe tbody tr th:only-of-type {\n",
       "        vertical-align: middle;\n",
       "    }\n",
       "\n",
       "    .dataframe tbody tr th {\n",
       "        vertical-align: top;\n",
       "    }\n",
       "\n",
       "    .dataframe thead th {\n",
       "        text-align: right;\n",
       "    }\n",
       "</style>\n",
       "<table border=\"1\" class=\"dataframe\">\n",
       "  <thead>\n",
       "    <tr style=\"text-align: right;\">\n",
       "      <th></th>\n",
       "      <th>mu</th>\n",
       "      <th>phi</th>\n",
       "    </tr>\n",
       "  </thead>\n",
       "  <tbody>\n",
       "    <tr>\n",
       "      <th>ML estimation</th>\n",
       "      <td>3.09</td>\n",
       "      <td>0.372</td>\n",
       "    </tr>\n",
       "    <tr>\n",
       "      <th>95% condifence interval</th>\n",
       "      <td>[2.4350109563462676, 3.7432789501651125]</td>\n",
       "      <td>[0.26303691893078723, 0.48070007375939056]</td>\n",
       "    </tr>\n",
       "  </tbody>\n",
       "</table>\n",
       "</div>"
      ],
      "text/plain": [
       "                                                               mu  \\\n",
       "ML estimation                                                3.09   \n",
       "95% condifence interval  [2.4350109563462676, 3.7432789501651125]   \n",
       "\n",
       "                                                                phi  \n",
       "ML estimation                                                 0.372  \n",
       "95% condifence interval  [0.26303691893078723, 0.48070007375939056]  "
      ]
     },
     "execution_count": 44,
     "metadata": {},
     "output_type": "execute_result"
    }
   ],
   "source": [
    "ar1_model         = sm.tsa.ARMA(Y, (1, 0)).fit(trend='c', disp=0)\n",
    "\n",
    "mu_arima_esti     = ar1_model.params[0]\n",
    "\n",
    "phi_arima_esti    = ar1_model.params[1]\n",
    "\n",
    "mu_arima_CI       = ar1_model.conf_int()[0] # extract confidence interval 95%\n",
    "\n",
    "phi_arima_CI      = ar1_model.conf_int()[1] \n",
    "\n",
    "sigma2_arima_esti = ar1_model.sigma2\n",
    "\n",
    "llf_arima_esti    = ar1_model.llf\n",
    "\n",
    "print(ar1_model.summary())\n",
    "\n",
    "mu_arima_results = [mu_arima_esti, mu_arima_CI]\n",
    "phi_arima_results = [phi_arima_esti, phi_arima_CI]\n",
    "pd.DataFrame({'mu': mu_arima_results,'phi':phi_arima_results}, index=['ML estimation', '95% condifence interval'])"
   ]
  },
  {
   "cell_type": "markdown",
   "metadata": {},
   "source": [
    "**Method 2: OLS estimation of the AR(1) parameters**\n",
    "* `lagmat2ds(x,maxlag0)`(statsmodels.tsa.tsatools.lagmat2ds): Generate lagmatrix for 2d array, columns arranged by variables(each column is a series of data starting from a certain lag). x is the original data. maxlag0 is the maximum lags to generate (including lag 0). See Example 1.\n",
    "* `np.concatenate((a,b,c), axis = 0)`: Join a number of matrices or arrays (three matrix a,b,c in this example) into one matrix. axis = 0 denotes joining by rows; axis = 1 denotes joining by columns. See Example 2.\n",
    "* `statsmodels.api.OLS()`: \n",
    "    * Here we need to include the constant term (estimation of $\\mu$) in the regression by genrating a vector of 1s."
   ]
  },
  {
   "cell_type": "markdown",
   "metadata": {},
   "source": [
    "**Example 1**\n",
    "* Be careful: For time lags where there lack data, python replace them with 0, not None!"
   ]
  },
  {
   "cell_type": "code",
   "execution_count": 6,
   "metadata": {
    "scrolled": true
   },
   "outputs": [
    {
     "data": {
      "text/html": [
       "<div>\n",
       "<style scoped>\n",
       "    .dataframe tbody tr th:only-of-type {\n",
       "        vertical-align: middle;\n",
       "    }\n",
       "\n",
       "    .dataframe tbody tr th {\n",
       "        vertical-align: top;\n",
       "    }\n",
       "\n",
       "    .dataframe thead th {\n",
       "        text-align: right;\n",
       "    }\n",
       "</style>\n",
       "<table border=\"1\" class=\"dataframe\">\n",
       "  <thead>\n",
       "    <tr style=\"text-align: right;\">\n",
       "      <th></th>\n",
       "      <th>0</th>\n",
       "      <th>1</th>\n",
       "      <th>2</th>\n",
       "      <th>3</th>\n",
       "      <th>4</th>\n",
       "    </tr>\n",
       "  </thead>\n",
       "  <tbody>\n",
       "    <tr>\n",
       "      <th>t=1</th>\n",
       "      <td>1.0</td>\n",
       "      <td>0.0</td>\n",
       "      <td>0.0</td>\n",
       "      <td>0.0</td>\n",
       "      <td>0.0</td>\n",
       "    </tr>\n",
       "    <tr>\n",
       "      <th>t=2</th>\n",
       "      <td>2.0</td>\n",
       "      <td>1.0</td>\n",
       "      <td>0.0</td>\n",
       "      <td>0.0</td>\n",
       "      <td>0.0</td>\n",
       "    </tr>\n",
       "    <tr>\n",
       "      <th>t=3</th>\n",
       "      <td>3.0</td>\n",
       "      <td>2.0</td>\n",
       "      <td>1.0</td>\n",
       "      <td>0.0</td>\n",
       "      <td>0.0</td>\n",
       "    </tr>\n",
       "    <tr>\n",
       "      <th>t=4</th>\n",
       "      <td>4.0</td>\n",
       "      <td>3.0</td>\n",
       "      <td>2.0</td>\n",
       "      <td>1.0</td>\n",
       "      <td>0.0</td>\n",
       "    </tr>\n",
       "    <tr>\n",
       "      <th>t=5</th>\n",
       "      <td>5.0</td>\n",
       "      <td>4.0</td>\n",
       "      <td>3.0</td>\n",
       "      <td>2.0</td>\n",
       "      <td>1.0</td>\n",
       "    </tr>\n",
       "    <tr>\n",
       "      <th>t=6</th>\n",
       "      <td>6.0</td>\n",
       "      <td>5.0</td>\n",
       "      <td>4.0</td>\n",
       "      <td>3.0</td>\n",
       "      <td>2.0</td>\n",
       "    </tr>\n",
       "    <tr>\n",
       "      <th>t=7</th>\n",
       "      <td>7.0</td>\n",
       "      <td>6.0</td>\n",
       "      <td>5.0</td>\n",
       "      <td>4.0</td>\n",
       "      <td>3.0</td>\n",
       "    </tr>\n",
       "  </tbody>\n",
       "</table>\n",
       "</div>"
      ],
      "text/plain": [
       "       0    1    2    3    4\n",
       "t=1  1.0  0.0  0.0  0.0  0.0\n",
       "t=2  2.0  1.0  0.0  0.0  0.0\n",
       "t=3  3.0  2.0  1.0  0.0  0.0\n",
       "t=4  4.0  3.0  2.0  1.0  0.0\n",
       "t=5  5.0  4.0  3.0  2.0  1.0\n",
       "t=6  6.0  5.0  4.0  3.0  2.0\n",
       "t=7  7.0  6.0  5.0  4.0  3.0"
      ]
     },
     "execution_count": 6,
     "metadata": {},
     "output_type": "execute_result"
    }
   ],
   "source": [
    "max_lag = 4\n",
    "\n",
    "X = np.array([1,2,3,4,5,6,7])\n",
    "Xlag = lagmat2ds(x=X, maxlag0=max_lag)\n",
    "pd.DataFrame(Xlag, index = ['t=1','t=2','t=3','t=4','t=5','t=6','t=7'])"
   ]
  },
  {
   "cell_type": "markdown",
   "metadata": {},
   "source": [
    "**Example 2**"
   ]
  },
  {
   "cell_type": "code",
   "execution_count": 19,
   "metadata": {},
   "outputs": [
    {
     "name": "stdout",
     "output_type": "stream",
     "text": [
      "[[0 1 2 3 4]\n",
      " [5 6 7 8 9]]\n",
      "[[0 1 2 3 4]]\n"
     ]
    }
   ],
   "source": [
    "a = np.matrix(np.arange(10).reshape((2,5)))\n",
    "print(a)\n",
    "\n",
    "b = np.matrix(np.arange(5))\n",
    "print(b)"
   ]
  },
  {
   "cell_type": "code",
   "execution_count": 20,
   "metadata": {},
   "outputs": [
    {
     "name": "stdout",
     "output_type": "stream",
     "text": [
      "[[0 1 2 3 4]\n",
      " [5 6 7 8 9]\n",
      " [0 1 2 3 4]]\n"
     ]
    }
   ],
   "source": [
    "c = np.concatenate((a,b), axis = 0)\n",
    "print(c)"
   ]
  },
  {
   "cell_type": "markdown",
   "metadata": {},
   "source": [
    "OLS estimation"
   ]
  },
  {
   "cell_type": "code",
   "execution_count": 29,
   "metadata": {},
   "outputs": [
    {
     "name": "stdout",
     "output_type": "stream",
     "text": [
      "                            OLS Regression Results                            \n",
      "==============================================================================\n",
      "Dep. Variable:                      y   R-squared:                       0.139\n",
      "Model:                            OLS   Adj. R-squared:                  0.136\n",
      "Method:                 Least Squares   F-statistic:                     44.48\n",
      "Date:                Tue, 02 Apr 2019   Prob (F-statistic):           1.40e-10\n",
      "Time:                        23:41:23   Log-Likelihood:                -743.50\n",
      "No. Observations:                 278   AIC:                             1491.\n",
      "Df Residuals:                     276   BIC:                             1498.\n",
      "Df Model:                           1                                         \n",
      "Covariance Type:            nonrobust                                         \n",
      "==============================================================================\n",
      "                 coef    std err          t      P>|t|      [0.025      0.975]\n",
      "------------------------------------------------------------------------------\n",
      "const          1.9574      0.273      7.166      0.000       1.420       2.495\n",
      "x1             0.3720      0.056      6.669      0.000       0.262       0.482\n",
      "==============================================================================\n",
      "Omnibus:                       16.705   Durbin-Watson:                   2.072\n",
      "Prob(Omnibus):                  0.000   Jarque-Bera (JB):               44.787\n",
      "Skew:                           0.130   Prob(JB):                     1.88e-10\n",
      "Kurtosis:                       4.949   Cond. No.                         6.44\n",
      "==============================================================================\n",
      "\n",
      "Warnings:\n",
      "[1] Standard Errors assume that the covariance matrix of the errors is correctly specified.\n"
     ]
    },
    {
     "data": {
      "text/html": [
       "<div>\n",
       "<style scoped>\n",
       "    .dataframe tbody tr th:only-of-type {\n",
       "        vertical-align: middle;\n",
       "    }\n",
       "\n",
       "    .dataframe tbody tr th {\n",
       "        vertical-align: top;\n",
       "    }\n",
       "\n",
       "    .dataframe thead th {\n",
       "        text-align: right;\n",
       "    }\n",
       "</style>\n",
       "<table border=\"1\" class=\"dataframe\">\n",
       "  <thead>\n",
       "    <tr style=\"text-align: right;\">\n",
       "      <th></th>\n",
       "      <th>mu</th>\n",
       "      <th>phi</th>\n",
       "    </tr>\n",
       "  </thead>\n",
       "  <tbody>\n",
       "    <tr>\n",
       "      <th>OLS estimation</th>\n",
       "      <td>1.96</td>\n",
       "      <td>0.372</td>\n",
       "    </tr>\n",
       "    <tr>\n",
       "      <th>95% condifence interval</th>\n",
       "      <td>[1.4197247700560096, 2.4951463441405695]</td>\n",
       "      <td>[0.26219828357075603, 0.4818248788933709]</td>\n",
       "    </tr>\n",
       "  </tbody>\n",
       "</table>\n",
       "</div>"
      ],
      "text/plain": [
       "                                                               mu  \\\n",
       "OLS estimation                                               1.96   \n",
       "95% condifence interval  [1.4197247700560096, 2.4951463441405695]   \n",
       "\n",
       "                                                               phi  \n",
       "OLS estimation                                               0.372  \n",
       "95% condifence interval  [0.26219828357075603, 0.4818248788933709]  "
      ]
     },
     "execution_count": 29,
     "metadata": {},
     "output_type": "execute_result"
    }
   ],
   "source": [
    "Y_endog = Y[1:]\n",
    "\n",
    "Ylag    = np.transpose(np.matrix(lagmat2ds(x=Y, maxlag0=1)[1:,1])) # exclude the first missing point\n",
    "                                                                   # convert into matrix to match the datatype of mu_aux in order for concatenation\n",
    "mu_aux  = np.transpose(np.matrix(np.ones(len(Ylag))))\n",
    "\n",
    "exogen  = np.array(np.concatenate((mu_aux, Ylag), axis=1))\n",
    "\n",
    "OLS_reg = sm.OLS(endog=Y_endog, exog=exogen)\n",
    "\n",
    "results = OLS_reg.fit()\n",
    "\n",
    "print(results.summary())\n",
    "\n",
    "mu_OLS     = results.params[0]\n",
    "phi_OLS    = results.params[1]\n",
    "mu_OLS_CI  = results.conf_int()[0]\n",
    "phi_OLS_CI = results.conf_int()[1]\n",
    "sigma2_OLS = results.scale\n",
    "\n",
    "mu_OLS_results  = [mu_OLS, mu_OLS_CI]\n",
    "phi_OLS_results = [phi_OLS, phi_OLS_CI]\n",
    "pd.DataFrame({'mu': mu_OLS_results,'phi':phi_OLS_results}, index=['OLS estimation', '95% condifence interval'])"
   ]
  },
  {
   "cell_type": "markdown",
   "metadata": {},
   "source": [
    "**Method 3: Bayesian Decision Rules**"
   ]
  },
  {
   "cell_type": "markdown",
   "metadata": {},
   "source": [
    "* `More on the datatype: \"class\"`\n",
    "    * In lecture 11-12, we introduced how to define a class in python and how to create an **instance** from a class (simply \"call\" the name of the class).\n",
    "    * Each class has a number of **attributes**. There are two types of attributes:\n",
    "       * **Datafield**: Basically, it is a **variable** that attached to a certain class. (There is a significant distinction between names (variables) and the objects they refer to. A variable in python means the name of the object. e.g. \"a = 2\": \"a\" is a variable, the name of the **object**; 2 is the **value** of this object.)\n",
    "       * **Method**: It is a function that attached to a certain class. e.g. $__init__ $ is an inbuilt method in python.\n",
    "       * In other words, a datafield is the name of an object that simply has certain value, whereas a method is a definition for operations that can be performed on objects of this type (class). But in its essence, they are all attributes of a class.\n",
    "       * Except for inbuilt attributes in python, we can also define new attributes for a class catering our needs. We can define a datafield either in the main body of the class or after an instance is created (See below how we define the datafield named \"Yreg\" for the instance named \"Bayes\"; simply assign a value to it). However, to creat a method, we must define it in the main body of the class (currently we do not need this).\n",
    "    "
   ]
  },
  {
   "cell_type": "markdown",
   "metadata": {},
   "source": [
    "Define a class BayesAnalysis() to store estimation results and create an instance named \"Bayes\"\n",
    "* `object` is the name of the parent class (We use \"self\" in lecture 11-12. Currently just take them as the same.)\n",
    "* `pass` indicates that the body/suit of the class definition is empty."
   ]
  },
  {
   "cell_type": "code",
   "execution_count": 33,
   "metadata": {},
   "outputs": [],
   "source": [
    "class BayesAnalysis(object):\n",
    "    pass\n",
    "\n",
    "Bayes = BayesAnalysis()"
   ]
  },
  {
   "cell_type": "markdown",
   "metadata": {},
   "source": [
    "Check the attributes of Bayes."
   ]
  },
  {
   "cell_type": "code",
   "execution_count": 38,
   "metadata": {},
   "outputs": [
    {
     "data": {
      "text/plain": [
       "['__class__',\n",
       " '__delattr__',\n",
       " '__dict__',\n",
       " '__dir__',\n",
       " '__doc__',\n",
       " '__eq__',\n",
       " '__format__',\n",
       " '__ge__',\n",
       " '__getattribute__',\n",
       " '__gt__',\n",
       " '__hash__',\n",
       " '__init__',\n",
       " '__init_subclass__',\n",
       " '__le__',\n",
       " '__lt__',\n",
       " '__module__',\n",
       " '__ne__',\n",
       " '__new__',\n",
       " '__reduce__',\n",
       " '__reduce_ex__',\n",
       " '__repr__',\n",
       " '__setattr__',\n",
       " '__sizeof__',\n",
       " '__str__',\n",
       " '__subclasshook__',\n",
       " '__weakref__']"
      ]
     },
     "execution_count": 38,
     "metadata": {},
     "output_type": "execute_result"
    }
   ],
   "source": [
    "dir(Bayes)"
   ]
  },
  {
   "cell_type": "markdown",
   "metadata": {},
   "source": [
    "Set up Guassian Prior and Prior Hyperparameter"
   ]
  },
  {
   "cell_type": "code",
   "execution_count": 39,
   "metadata": {},
   "outputs": [],
   "source": [
    "# Guassian Prior\n",
    "Bayes.Yreg = np.transpose(np.matrix(Y[1:]))\n",
    "\n",
    "x_aux1     = np.transpose(np.matrix(np.ones(len(Bayes.Yreg)))) # x_aux1 is an n by 1 matrix\n",
    "\n",
    "x_aux2     = np.transpose(np.matrix(Y[0:-1]))\n",
    "\n",
    "Bayes.Xreg = np.concatenate((x_aux1, x_aux2), axis=1)\n",
    "\n",
    "# Prior Hyperparameter\n",
    "Bayes.V = np.matrix(np.identity(np.shape(Bayes.Xreg)[1])) # creat an identity matrix"
   ]
  },
  {
   "cell_type": "markdown",
   "metadata": {},
   "source": [
    "Again, check the attributes of Bayes. Now, we can find that Yreg, Xreg and V appear in the list of attributes. They are datafields that we have just defined."
   ]
  },
  {
   "cell_type": "code",
   "execution_count": 40,
   "metadata": {},
   "outputs": [
    {
     "data": {
      "text/plain": [
       "['V',\n",
       " 'Xreg',\n",
       " 'Yreg',\n",
       " '__class__',\n",
       " '__delattr__',\n",
       " '__dict__',\n",
       " '__dir__',\n",
       " '__doc__',\n",
       " '__eq__',\n",
       " '__format__',\n",
       " '__ge__',\n",
       " '__getattribute__',\n",
       " '__gt__',\n",
       " '__hash__',\n",
       " '__init__',\n",
       " '__init_subclass__',\n",
       " '__le__',\n",
       " '__lt__',\n",
       " '__module__',\n",
       " '__ne__',\n",
       " '__new__',\n",
       " '__reduce__',\n",
       " '__reduce_ex__',\n",
       " '__repr__',\n",
       " '__setattr__',\n",
       " '__sizeof__',\n",
       " '__str__',\n",
       " '__subclasshook__',\n",
       " '__weakref__']"
      ]
     },
     "execution_count": 40,
     "metadata": {},
     "output_type": "execute_result"
    }
   ],
   "source": [
    "dir(Bayes)"
   ]
  },
  {
   "cell_type": "markdown",
   "metadata": {},
   "source": [
    "Compute the mean of the posterior distribution.\n",
    "* We assume $\\mu$ = 0 in the prior and take the ML estimation of $\\sigma^2$ as that in the prior"
   ]
  },
  {
   "cell_type": "code",
   "execution_count": 41,
   "metadata": {},
   "outputs": [
    {
     "data": {
      "text/html": [
       "<div>\n",
       "<style scoped>\n",
       "    .dataframe tbody tr th:only-of-type {\n",
       "        vertical-align: middle;\n",
       "    }\n",
       "\n",
       "    .dataframe tbody tr th {\n",
       "        vertical-align: top;\n",
       "    }\n",
       "\n",
       "    .dataframe thead th {\n",
       "        text-align: right;\n",
       "    }\n",
       "</style>\n",
       "<table border=\"1\" class=\"dataframe\">\n",
       "  <thead>\n",
       "    <tr style=\"text-align: right;\">\n",
       "      <th></th>\n",
       "      <th>Bayes estimation</th>\n",
       "    </tr>\n",
       "  </thead>\n",
       "  <tbody>\n",
       "    <tr>\n",
       "      <th>mu</th>\n",
       "      <td>1.957</td>\n",
       "    </tr>\n",
       "    <tr>\n",
       "      <th>phi</th>\n",
       "      <td>0.372</td>\n",
       "    </tr>\n",
       "  </tbody>\n",
       "</table>\n",
       "</div>"
      ],
      "text/plain": [
       "     Bayes estimation\n",
       "mu              1.957\n",
       "phi             0.372"
      ]
     },
     "execution_count": 41,
     "metadata": {},
     "output_type": "execute_result"
    }
   ],
   "source": [
    "sigma2 = sigma2_arima_esti\n",
    "\n",
    "Bayes.PostMean = np.linalg.inv(np.linalg.inv(sigma2*Bayes.V) + np.transpose(Bayes.Xreg)*Bayes.Xreg)*\\\n",
    "(np.transpose(Bayes.Xreg)*Bayes.Yreg)\n",
    "\n",
    "Bayes.mu_hat = Bayes.PostMean[0,0]\n",
    "Bayes.phi_hat = Bayes.PostMean[1,0]\n",
    "\n",
    "pd.DataFrame({'Bayes estimation':[Bayes.mu_hat,Bayes.phi_hat]}, index=([\"mu\",\"phi\"]))"
   ]
  },
  {
   "cell_type": "markdown",
   "metadata": {},
   "source": [
    "Compute the Variance of the posterior distribution"
   ]
  },
  {
   "cell_type": "code",
   "execution_count": 42,
   "metadata": {},
   "outputs": [],
   "source": [
    "Bayes.PostVar = sigma2*np.linalg.inv((np.linalg.inv(Bayes.V) + np.transpose(Bayes.Xreg)*Bayes.Xreg))"
   ]
  },
  {
   "cell_type": "markdown",
   "metadata": {},
   "source": [
    "Compare the Prior for $\\mu$ vs the posterior for $\\mu$"
   ]
  },
  {
   "cell_type": "code",
   "execution_count": 45,
   "metadata": {},
   "outputs": [
    {
     "data": {
      "text/plain": [
       "Text(0.5, 1.0, 'Prior/Posterior of $\\\\mu$')"
      ]
     },
     "execution_count": 45,
     "metadata": {},
     "output_type": "execute_result"
    },
    {
     "data": {
      "image/png": "[encoded data removed]",
      "text/plain": [
       "<Figure size 432x288 with 1 Axes>"
      ]
     },
     "metadata": {
      "needs_background": "light"
     },
     "output_type": "display_data"
    }
   ],
   "source": [
    "mu_lim = np.linspace(-3, 3, 100)\n",
    "\n",
    "mu_prior_pdf = stats.norm.pdf(mu_lim,loc=0, scale= sigma2**0.5)\n",
    "\n",
    "mu_post_pdf  = stats.norm.pdf(mu_lim,loc= Bayes.mu_hat, scale= Bayes.PostVar[0,0]**0.5)\n",
    "\n",
    "plt.plot(mu_lim, mu_prior_pdf, 'r--', lw=2, alpha=0.6)\n",
    "\n",
    "plt.plot(mu_lim, mu_post_pdf, 'b-', lw=2, alpha=0.6)   \n",
    "\n",
    "plt.legend(['prior pdf','posterior pdf'], loc='upper left')\n",
    "\n",
    "plt.title(\"Prior/Posterior of $\\mu$\")"
   ]
  },
  {
   "cell_type": "markdown",
   "metadata": {},
   "source": [
    "Compare the Prior for $\\phi$ vs the posterior for $\\phi$"
   ]
  },
  {
   "cell_type": "code",
   "execution_count": 46,
   "metadata": {},
   "outputs": [
    {
     "data": {
      "text/plain": [
       "Text(0.5, 1.0, 'Prior/Posterior of $\\\\phi$')"
      ]
     },
     "execution_count": 46,
     "metadata": {},
     "output_type": "execute_result"
    },
    {
     "data": {
      "image/png": "[encoded data removed]",
      "text/plain": [
       "<Figure size 432x288 with 1 Axes>"
      ]
     },
     "metadata": {
      "needs_background": "light"
     },
     "output_type": "display_data"
    }
   ],
   "source": [
    "phi_lim = np.linspace(-3, 3, 100)\n",
    "\n",
    "phi_prior_pdf = stats.norm.pdf(phi_lim,loc=0, scale= sigma2**0.5)\n",
    "\n",
    "phi_post_pdf  = stats.norm.pdf(phi_lim,loc= Bayes.phi_hat, scale= Bayes.PostVar[1,1]**0.5)\n",
    "\n",
    "plt.plot(phi_lim, phi_prior_pdf, 'r--', lw=2, alpha=0.6)\n",
    "\n",
    "plt.plot(phi_lim, phi_post_pdf, 'b-', lw=2, alpha=0.6)   \n",
    "\n",
    "plt.legend(['prior pdf','posterior pdf'], loc='upper left')\n",
    "\n",
    "plt.title(\"Prior/Posterior of $\\phi$\")"
   ]
  },
  {
   "cell_type": "markdown",
   "metadata": {},
   "source": [
    "Compute 95% Credible Sets based on the quantiles of the posterior\n",
    "* stats.norm.ppf(p, loc, scale): Standard Normal inverse cumulative distribution function (percent point function)\n",
    "    * p: quantile\n",
    "    * loc: mean of the normal distribution\n",
    "    * scale: standard error of the normal distribution"
   ]
  },
  {
   "cell_type": "code",
   "execution_count": 47,
   "metadata": {},
   "outputs": [
    {
     "name": "stdout",
     "output_type": "stream",
     "text": [
      "The 95% credible set for mu and phi are [1.4248120628630527, 2.4881950953767626] and [0.2633567141018558, 0.48089867514873164] .\n"
     ]
    }
   ],
   "source": [
    "# Standard Normal inverse cumulative distribution function (percent point function)\n",
    "Bayes.mu_CS = [stats.norm.ppf(0.025, loc=Bayes.mu_hat, scale=Bayes.PostVar[0,0]**0.5),\\\n",
    "               stats.norm.ppf(0.975, loc=Bayes.mu_hat, scale=Bayes.PostVar[0,0]**0.5)]\n",
    "\n",
    "Bayes.phi_CS = [stats.norm.ppf(0.025, loc=Bayes.phi_hat, scale=Bayes.PostVar[1,1]**0.5),\\\n",
    "               stats.norm.ppf(0.975, loc=Bayes.phi_hat, scale=Bayes.PostVar[1,1]**0.5)]\n",
    "\n",
    "print('The 95% credible set for mu and phi are', Bayes.mu_CS, \"and\", Bayes.phi_CS,\".\")"
   ]
  },
  {
   "cell_type": "markdown",
   "metadata": {},
   "source": [
    "Compare MLE, OLS and Bayes estimation."
   ]
  },
  {
   "cell_type": "code",
   "execution_count": 53,
   "metadata": {},
   "outputs": [
    {
     "data": {
      "text/html": [
       "<div>\n",
       "<style scoped>\n",
       "    .dataframe tbody tr th:only-of-type {\n",
       "        vertical-align: middle;\n",
       "    }\n",
       "\n",
       "    .dataframe tbody tr th {\n",
       "        vertical-align: top;\n",
       "    }\n",
       "\n",
       "    .dataframe thead th {\n",
       "        text-align: right;\n",
       "    }\n",
       "</style>\n",
       "<table border=\"1\" class=\"dataframe\">\n",
       "  <thead>\n",
       "    <tr style=\"text-align: right;\">\n",
       "      <th></th>\n",
       "      <th>arma MLE</th>\n",
       "      <th>OLS</th>\n",
       "      <th>Bayesian Analysis</th>\n",
       "    </tr>\n",
       "  </thead>\n",
       "  <tbody>\n",
       "    <tr>\n",
       "      <th>mu estimation</th>\n",
       "      <td>3.08914</td>\n",
       "      <td>1.95744</td>\n",
       "      <td>1.9565</td>\n",
       "    </tr>\n",
       "    <tr>\n",
       "      <th>mu confidence interval/credit set</th>\n",
       "      <td>[2.43501, 3.74328]</td>\n",
       "      <td>[1.41972, 2.49515]</td>\n",
       "      <td>[1.42481, 2.4882]</td>\n",
       "    </tr>\n",
       "    <tr>\n",
       "      <th>phi estimation</th>\n",
       "      <td>0.371868</td>\n",
       "      <td>0.372012</td>\n",
       "      <td>0.372128</td>\n",
       "    </tr>\n",
       "    <tr>\n",
       "      <th>phi confidence interval/credit set</th>\n",
       "      <td>[0.26304, 0.4807]</td>\n",
       "      <td>[0.2622, 0.48182]</td>\n",
       "      <td>[0.26336, 0.4809]</td>\n",
       "    </tr>\n",
       "  </tbody>\n",
       "</table>\n",
       "</div>"
      ],
      "text/plain": [
       "                                              arma MLE                 OLS  \\\n",
       "mu estimation                                  3.08914             1.95744   \n",
       "mu confidence interval/credit set   [2.43501, 3.74328]  [1.41972, 2.49515]   \n",
       "phi estimation                                0.371868            0.372012   \n",
       "phi confidence interval/credit set   [0.26304, 0.4807]   [0.2622, 0.48182]   \n",
       "\n",
       "                                    Bayesian Analysis  \n",
       "mu estimation                                  1.9565  \n",
       "mu confidence interval/credit set   [1.42481, 2.4882]  \n",
       "phi estimation                               0.372128  \n",
       "phi confidence interval/credit set  [0.26336, 0.4809]  "
      ]
     },
     "execution_count": 53,
     "metadata": {},
     "output_type": "execute_result"
    }
   ],
   "source": [
    "# change the precision of confidence interval\n",
    "mu_arima_CI[0]  = round(mu_arima_CI[0], 5) \n",
    "mu_arima_CI[1]  = round(mu_arima_CI[1], 5)\n",
    "phi_arima_CI[0] = round(phi_arima_CI[0], 5) \n",
    "phi_arima_CI[1] = round(phi_arima_CI[1], 5)\n",
    "mu_OLS_CI[0]    = round(mu_OLS_CI[0], 5) \n",
    "mu_OLS_CI[1]    = round(mu_OLS_CI[1], 5)\n",
    "phi_OLS_CI[0]   = round(phi_OLS_CI[0], 5) \n",
    "phi_OLS_CI[1]   = round(phi_OLS_CI[1], 5)\n",
    "Bayes.mu_CS[0]  = round(Bayes.mu_CS[0], 5) \n",
    "Bayes.mu_CS[1]  = round(Bayes.mu_CS[1], 5)\n",
    "Bayes.phi_CS[0] = round(Bayes.phi_CS[0], 5) \n",
    "Bayes.phi_CS[1] = round(Bayes.phi_CS[1], 5)\n",
    "\n",
    "# set the precision of pandas display\n",
    "pd.set_option('display.precision', 6)\n",
    "\n",
    "arima_results = [mu_arima_esti, mu_arima_CI, phi_arima_esti, phi_arima_CI]\n",
    "\n",
    "OLS_results = [mu_OLS, mu_OLS_CI, phi_OLS, phi_OLS_CI]\n",
    "\n",
    "Bayes.results = [Bayes.mu_hat, Bayes.mu_CS, Bayes.phi_hat, Bayes.phi_CS]\n",
    "\n",
    "pd.DataFrame({'arma MLE':arima_results,'OLS':OLS_results,'Bayesian Analysis':Bayes.results},\\\n",
    "             index=['mu estimation', 'mu confidence interval/credit set', 'phi estimation', 'phi confidence interval/credit set'])\n"
   ]
  }
 ],
 "metadata": {
  "kernelspec": {
   "display_name": "Python 3",
   "language": "python",
   "name": "python3"
  },
  "language_info": {
   "codemirror_mode": {
    "name": "ipython",
    "version": 3
   },
   "file_extension": ".py",
   "mimetype": "text/x-python",
   "name": "python",
   "nbconvert_exporter": "python",
   "pygments_lexer": "ipython3",
   "version": "3.7.1"
  },
  "latex_envs": {
   "LaTeX_envs_menu_present": true,
   "autoclose": false,
   "autocomplete": true,
   "bibliofile": "biblio.bib",
   "cite_by": "apalike",
   "current_citInitial": 1,
   "eqLabelWithNumbers": true,
   "eqNumInitial": 1,
   "hotkeys": {
    "equation": "Ctrl-E",
    "itemize": "Ctrl-I"
   },
   "labels_anchors": false,
   "latex_user_defs": false,
   "report_style_numbering": false,
   "user_envs_cfg": false
  },
  "varInspector": {
   "cols": {
    "lenName": 16,
    "lenType": 16,
    "lenVar": 40
   },
   "kernels_config": {
    "python": {
     "delete_cmd_postfix": "",
     "delete_cmd_prefix": "del ",
     "library": "var_list.py",
     "varRefreshCmd": "print(var_dic_list())"
    },
    "r": {
     "delete_cmd_postfix": ") ",
     "delete_cmd_prefix": "rm(",
     "library": "var_list.r",
     "varRefreshCmd": "cat(var_dic_list()) "
    }
   },
   "types_to_exclude": [
    "module",
    "function",
    "builtin_function_or_method",
    "instance",
    "_Feature"
   ],
   "window_display": false
  }
 },
 "nbformat": 4,
 "nbformat_minor": 2
}
