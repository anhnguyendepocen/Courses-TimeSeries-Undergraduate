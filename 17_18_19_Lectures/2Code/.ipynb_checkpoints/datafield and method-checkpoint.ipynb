{
 "cells": [
  {
   "cell_type": "markdown",
   "metadata": {},
   "source": [
    "### Instance Attributes"
   ]
  },
  {
   "cell_type": "markdown",
   "metadata": {},
   "source": [
    "There are two types of instance attributes:\n",
    "   * **Data fields**. Each instance owns its own data (the class can define what names the data fields have).\n",
    "   * **Methods** containing the functionality of the object. These are defined in the class."
   ]
  },
  {
   "cell_type": "markdown",
   "metadata": {},
   "source": [
    "### Some notes about data fields and methods\n",
    "A datafield is like a variable; a method is like a function. But basically they are the same thing for python.  \n",
    "So for a list, \"dir(li)\" all those displayed are methods.  \n",
    "(Those with underscores are common methods for most datatypes, and we usually do not call them. But they have side effects when we call the class or call a certain method. In dir(li), those without underscores are also methods (of course for some other classes those without underscores can also be datafields. We need to check them with specific examples) that we call directly to perform certain operations,etc. e.g. len() )\n",
    "\n",
    "Now a datafield is simply the variable (name of the object) attached to a class, e.g. below, for the instance \"my_book\", \"title\" is the datafield, and \"Harry Potter and the Philosopher's Stone\" is the value of this datafield.\n",
    "\n",
    "So another explicit difference between datafields and methods is that, for a method, you must call it with (); but for s datafield, you must call it without ().\n",
    "Also, if we use class.method? class.datafield? Results are different. See examples below."
   ]
  },
  {
   "cell_type": "code",
   "execution_count": 1,
   "metadata": {
    "ExecuteTime": {
     "end_time": "2019-04-08T21:42:16.249712Z",
     "start_time": "2019-04-08T21:42:16.240513Z"
    }
   },
   "outputs": [],
   "source": [
    "class LibraryBook(object):\n",
    "    \"\"\"\n",
    "    A library book.\n",
    "    \"\"\"\n",
    "         \n",
    "    def __init__(self, title, author, pub_year, call_no):\n",
    "        self.title = title\n",
    "        self.author = author\n",
    "        self.year = pub_year\n",
    "        self.call_number = call_no\n",
    "        \n",
    "    def title_and_author(self):\n",
    "        return \"{} {}: {}\".format(self.author[1], self.author[0], self.title) \n",
    "    \n",
    "    def __str__(self): #make sure that __str__ returns a string! everything with __ is an inbuilt method, this is especially works with print()\n",
    "        return \"{} {} ({}): {}\".format(self.author[1], self.author[0], self.year, self.title) \n",
    "        \n",
    "    def __repr__(self):  # this is especially for printing in consol!!\n",
    "        return \"<Book: {} ({})>\".format(self.title, self.call_number)"
   ]
  },
  {
   "cell_type": "code",
   "execution_count": 2,
   "metadata": {
    "ExecuteTime": {
     "end_time": "2019-04-08T21:42:25.718211Z",
     "start_time": "2019-04-08T21:42:25.714320Z"
    }
   },
   "outputs": [],
   "source": [
    "my_book = LibraryBook(\"Harry Potter and the Philosophers's Stone\",('Rowling', 'J.K.'),1998,\"PZ7.R79835\")"
   ]
  },
  {
   "cell_type": "code",
   "execution_count": 4,
   "metadata": {
    "ExecuteTime": {
     "end_time": "2019-04-08T21:42:41.490664Z",
     "start_time": "2019-04-08T21:42:41.486035Z"
    }
   },
   "outputs": [],
   "source": [
    "my_book.*?"
   ]
  },
  {
   "cell_type": "markdown",
   "metadata": {},
   "source": [
    "Result of my_book*?\n",
    "1. methods: \n",
    "    * all those with underscores (inbuilt in python, quite common)\n",
    "    * title_and_author\n",
    "2. datafields:\n",
    "    * author\n",
    "    * call_number\n",
    "    * title\n",
    "    * year"
   ]
  },
  {
   "cell_type": "code",
   "execution_count": 5,
   "metadata": {
    "ExecuteTime": {
     "end_time": "2019-04-08T21:42:49.271678Z",
     "start_time": "2019-04-08T21:42:49.267878Z"
    }
   },
   "outputs": [],
   "source": [
    "my_book.author?"
   ]
  },
  {
   "cell_type": "code",
   "execution_count": 15,
   "metadata": {},
   "outputs": [],
   "source": [
    "my_book.title_and_author?"
   ]
  },
  {
   "cell_type": "code",
   "execution_count": 16,
   "metadata": {},
   "outputs": [],
   "source": [
    "my_book.__str__?"
   ]
  },
  {
   "cell_type": "markdown",
   "metadata": {},
   "source": [
    "Difference: calling a method and a datafield"
   ]
  },
  {
   "cell_type": "markdown",
   "metadata": {},
   "source": [
    "* datafield"
   ]
  },
  {
   "cell_type": "code",
   "execution_count": 17,
   "metadata": {},
   "outputs": [
    {
     "data": {
      "text/plain": [
       "('Rowling', 'J.K.')"
      ]
     },
     "execution_count": 17,
     "metadata": {},
     "output_type": "execute_result"
    }
   ],
   "source": [
    "my_book.author"
   ]
  },
  {
   "cell_type": "code",
   "execution_count": 18,
   "metadata": {},
   "outputs": [
    {
     "ename": "TypeError",
     "evalue": "'tuple' object is not callable",
     "output_type": "error",
     "traceback": [
      "\u001b[1;31m---------------------------------------------------------------------------\u001b[0m",
      "\u001b[1;31mTypeError\u001b[0m                                 Traceback (most recent call last)",
      "\u001b[1;32m<ipython-input-18-37633552a84e>\u001b[0m in \u001b[0;36m<module>\u001b[1;34m\u001b[0m\n\u001b[1;32m----> 1\u001b[1;33m \u001b[0mmy_book\u001b[0m\u001b[1;33m.\u001b[0m\u001b[0mauthor\u001b[0m\u001b[1;33m(\u001b[0m\u001b[1;33m)\u001b[0m\u001b[1;33m\u001b[0m\u001b[1;33m\u001b[0m\u001b[0m\n\u001b[0m",
      "\u001b[1;31mTypeError\u001b[0m: 'tuple' object is not callable"
     ]
    }
   ],
   "source": [
    "my_book.author()"
   ]
  },
  {
   "cell_type": "markdown",
   "metadata": {},
   "source": [
    "* method"
   ]
  },
  {
   "cell_type": "code",
   "execution_count": 19,
   "metadata": {},
   "outputs": [
    {
     "data": {
      "text/plain": [
       "<bound method LibraryBook.title_and_author of <Book: Harry Potter and the Philosophers's Stone (PZ7.R79835)>>"
      ]
     },
     "execution_count": 19,
     "metadata": {},
     "output_type": "execute_result"
    }
   ],
   "source": [
    "my_book.title_and_author"
   ]
  },
  {
   "cell_type": "code",
   "execution_count": 20,
   "metadata": {},
   "outputs": [
    {
     "data": {
      "text/plain": [
       "\"J.K. Rowling: Harry Potter and the Philosophers's Stone\""
      ]
     },
     "execution_count": 20,
     "metadata": {},
     "output_type": "execute_result"
    }
   ],
   "source": [
    "my_book.title_and_author()"
   ]
  },
  {
   "cell_type": "code",
   "execution_count": 21,
   "metadata": {},
   "outputs": [
    {
     "data": {
      "text/plain": [
       "<bound method LibraryBook.__str__ of <Book: Harry Potter and the Philosophers's Stone (PZ7.R79835)>>"
      ]
     },
     "execution_count": 21,
     "metadata": {},
     "output_type": "execute_result"
    }
   ],
   "source": [
    "my_book.__str__"
   ]
  },
  {
   "cell_type": "code",
   "execution_count": 22,
   "metadata": {},
   "outputs": [
    {
     "data": {
      "text/plain": [
       "\"J.K. Rowling (1998): Harry Potter and the Philosophers's Stone\""
      ]
     },
     "execution_count": 22,
     "metadata": {},
     "output_type": "execute_result"
    }
   ],
   "source": [
    "my_book.__str__()"
   ]
  },
  {
   "cell_type": "code",
   "execution_count": null,
   "metadata": {},
   "outputs": [],
   "source": []
  }
 ],
 "metadata": {
  "kernelspec": {
   "display_name": "Python 3",
   "language": "python",
   "name": "python3"
  },
  "language_info": {
   "codemirror_mode": {
    "name": "ipython",
    "version": 3
   },
   "file_extension": ".py",
   "mimetype": "text/x-python",
   "name": "python",
   "nbconvert_exporter": "python",
   "pygments_lexer": "ipython3",
   "version": "3.7.1"
  },
  "latex_envs": {
   "LaTeX_envs_menu_present": true,
   "autoclose": false,
   "autocomplete": true,
   "bibliofile": "biblio.bib",
   "cite_by": "apalike",
   "current_citInitial": 1,
   "eqLabelWithNumbers": true,
   "eqNumInitial": 1,
   "hotkeys": {
    "equation": "Ctrl-E",
    "itemize": "Ctrl-I"
   },
   "labels_anchors": false,
   "latex_user_defs": false,
   "report_style_numbering": false,
   "user_envs_cfg": false
  },
  "varInspector": {
   "cols": {
    "lenName": 16,
    "lenType": 16,
    "lenVar": 40
   },
   "kernels_config": {
    "python": {
     "delete_cmd_postfix": "",
     "delete_cmd_prefix": "del ",
     "library": "var_list.py",
     "varRefreshCmd": "print(var_dic_list())"
    },
    "r": {
     "delete_cmd_postfix": ") ",
     "delete_cmd_prefix": "rm(",
     "library": "var_list.r",
     "varRefreshCmd": "cat(var_dic_list()) "
    }
   },
   "types_to_exclude": [
    "module",
    "function",
    "builtin_function_or_method",
    "instance",
    "_Feature"
   ],
   "window_display": false
  }
 },
 "nbformat": 4,
 "nbformat_minor": 2
}
