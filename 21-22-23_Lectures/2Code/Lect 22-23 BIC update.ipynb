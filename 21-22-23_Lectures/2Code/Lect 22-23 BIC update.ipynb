{
 "cells": [
  {
   "cell_type": "markdown",
   "metadata": {},
   "source": [
    "## Lecture 22-23 BIC\n",
    "* **Define a function to compute BIC of given p and select the \"optimal\" p for AR(p) model**\n",
    "    * The definition of BIC used in this lecture is taken from \"_Introduction to Econometrics, 2nd edition, Pearson_\"  P.551, equation 14.23."
   ]
  },
  {
   "cell_type": "markdown",
   "metadata": {},
   "source": [
    "Define a function named bicAR\n",
    "* `lagmat2ds(x,maxlag0)`(statsmodels.tsa.tsatools.lagmat2ds): Generate lagmatrix for 2d array, columns arranged by variables(each column is a series of data starting from a certain lag). x is the original data. maxlag0 is the maximum lags to generate (including lag 0). See Example 1.\n",
    "* `statsmodels.api.OLS()`: \n",
    "    * One of the arguments here is \"missing\".Available options are ‘none’, ‘drop’, and ‘raise’. If ‘none’, no nan checking is done. If ‘drop’, any observations with nans are dropped. If ‘raise’, an error is raised. Default is ‘none.’\n",
    "    * statsmodels.api.OLS() also displays BIC, which can be extracted by \".bic\" from results or simply read the summary table. See Example 2.\n",
    "    * Here we need to include the constant term (estimation of $\\mu$) in the regression by genrating a vector of 1s."
   ]
  },
  {
   "cell_type": "code",
   "execution_count": 102,
   "metadata": {},
   "outputs": [],
   "source": [
    "def bicAR(Y, pmax):\n",
    "    \"\"\"\n",
    "    Calculate the Bayes Information Criterion for a univariate AR(p) model.\n",
    "    \n",
    "    Inputs:\n",
    "        Y   : Times series data. 1 by n. A list or an array.\n",
    "        pmax: User-specified upper bound of number of lags\n",
    "        \n",
    "    Outputs:\n",
    "        BIC           : Bayes Information Criterion\n",
    "        p_optimal     : The optimal p that generates BIC\n",
    "        BIC_statsmodel: BIC given by statsmodel\n",
    "        p_statsmodel  : The optimal p given by comparing BIC_statsmodel\n",
    "    \"\"\"\n",
    "    import numpy as np\n",
    "    import statsmodels.api as sm\n",
    "    from statsmodels.tsa.tsatools import lagmat2ds\n",
    "    \n",
    "    Y          = np.array(Y)    # in case the input is of other datatypes\n",
    "    bic_aux    = np.zeros(pmax)\n",
    "    T          = len(Y)    \n",
    "    mu_aux     = np.transpose(np.matrix(np.ones(T)))\n",
    "    bic_sm_aux = []\n",
    "    \n",
    "    for i_p in range(pmax): # 0,1,2..., pmax-1, so actual lag is i_p+1\n",
    "        Ylag   = lagmat2ds(x=Y, maxlag0=i_p+1) # The first column is with lag 0   \n",
    "        exogen = np.array(np.concatenate((mu_aux, Ylag[:,1:]), axis=1))\n",
    "\n",
    "        for i in range(i_p+2):\n",
    "            for j in range(T):\n",
    "                if exogen[j,i] == 0:\n",
    "                    exogen[j,i] = None \n",
    "                    \n",
    "        reg1         = sm.OLS(endog=Y, exog=exogen, missing='drop')\n",
    "        results      = reg1.fit()\n",
    "        bic_sm_aux.append(results.bic)\n",
    "        \n",
    "        OLS_residual = results.resid    # a T-i_p-1 by 1 array; since we have drop those data without lags, here we take the whole array of residuals\n",
    "        SSR          = np.sum(OLS_residual**2)\n",
    "        bic_aux[i_p] = np.log(SSR/(T-i_p-1)) + (i_p+1+1)*np.log(T-i_p-1)/(T-i_p-1)\n",
    "    \n",
    "    BIC_statsmodel = min(bic_sm_aux)\n",
    "    p_statsmodel   = bic_sm_aux.index(BIC_statsmodel)+1\n",
    "    BIC            = np.nanmin(bic_aux)\n",
    "    p_optimal      = np.where(bic_aux==BIC)[0][0]+1\n",
    "    \n",
    "    \n",
    "    return BIC, p_optimal, BIC_statsmodel, p_statsmodel\n"
   ]
  },
  {
   "cell_type": "markdown",
   "metadata": {},
   "source": [
    "**Example 1**\n",
    "* Be careful: For time lags where there lack data, python replace them with 0, not None! So before we run the OLS regrssion, we must change those 0 values into None and then drop those datapoints in the regression."
   ]
  },
  {
   "cell_type": "code",
   "execution_count": 103,
   "metadata": {},
   "outputs": [
    {
     "data": {
      "text/html": [
       "<div>\n",
       "<style scoped>\n",
       "    .dataframe tbody tr th:only-of-type {\n",
       "        vertical-align: middle;\n",
       "    }\n",
       "\n",
       "    .dataframe tbody tr th {\n",
       "        vertical-align: top;\n",
       "    }\n",
       "\n",
       "    .dataframe thead th {\n",
       "        text-align: right;\n",
       "    }\n",
       "</style>\n",
       "<table border=\"1\" class=\"dataframe\">\n",
       "  <thead>\n",
       "    <tr style=\"text-align: right;\">\n",
       "      <th></th>\n",
       "      <th>0</th>\n",
       "      <th>1</th>\n",
       "      <th>2</th>\n",
       "      <th>3</th>\n",
       "      <th>4</th>\n",
       "    </tr>\n",
       "  </thead>\n",
       "  <tbody>\n",
       "    <tr>\n",
       "      <th>t=1</th>\n",
       "      <td>1.0</td>\n",
       "      <td>0.0</td>\n",
       "      <td>0.0</td>\n",
       "      <td>0.0</td>\n",
       "      <td>0.0</td>\n",
       "    </tr>\n",
       "    <tr>\n",
       "      <th>t=2</th>\n",
       "      <td>2.0</td>\n",
       "      <td>1.0</td>\n",
       "      <td>0.0</td>\n",
       "      <td>0.0</td>\n",
       "      <td>0.0</td>\n",
       "    </tr>\n",
       "    <tr>\n",
       "      <th>t=3</th>\n",
       "      <td>3.0</td>\n",
       "      <td>2.0</td>\n",
       "      <td>1.0</td>\n",
       "      <td>0.0</td>\n",
       "      <td>0.0</td>\n",
       "    </tr>\n",
       "    <tr>\n",
       "      <th>t=4</th>\n",
       "      <td>4.0</td>\n",
       "      <td>3.0</td>\n",
       "      <td>2.0</td>\n",
       "      <td>1.0</td>\n",
       "      <td>0.0</td>\n",
       "    </tr>\n",
       "    <tr>\n",
       "      <th>t=5</th>\n",
       "      <td>5.0</td>\n",
       "      <td>4.0</td>\n",
       "      <td>3.0</td>\n",
       "      <td>2.0</td>\n",
       "      <td>1.0</td>\n",
       "    </tr>\n",
       "    <tr>\n",
       "      <th>t=6</th>\n",
       "      <td>6.0</td>\n",
       "      <td>5.0</td>\n",
       "      <td>4.0</td>\n",
       "      <td>3.0</td>\n",
       "      <td>2.0</td>\n",
       "    </tr>\n",
       "    <tr>\n",
       "      <th>t=7</th>\n",
       "      <td>7.0</td>\n",
       "      <td>6.0</td>\n",
       "      <td>5.0</td>\n",
       "      <td>4.0</td>\n",
       "      <td>3.0</td>\n",
       "    </tr>\n",
       "  </tbody>\n",
       "</table>\n",
       "</div>"
      ],
      "text/plain": [
       "       0    1    2    3    4\n",
       "t=1  1.0  0.0  0.0  0.0  0.0\n",
       "t=2  2.0  1.0  0.0  0.0  0.0\n",
       "t=3  3.0  2.0  1.0  0.0  0.0\n",
       "t=4  4.0  3.0  2.0  1.0  0.0\n",
       "t=5  5.0  4.0  3.0  2.0  1.0\n",
       "t=6  6.0  5.0  4.0  3.0  2.0\n",
       "t=7  7.0  6.0  5.0  4.0  3.0"
      ]
     },
     "execution_count": 103,
     "metadata": {},
     "output_type": "execute_result"
    }
   ],
   "source": [
    "import numpy as np\n",
    "from statsmodels.tsa.tsatools import lagmat2ds\n",
    "import pandas as pd\n",
    "\n",
    "max_lag = 4\n",
    "\n",
    "X = np.array([1,2,3,4,5,6,7])\n",
    "Xlag = lagmat2ds(x=X, maxlag0=max_lag)\n",
    "pd.DataFrame(Xlag, index = ['t=1','t=2','t=3','t=4','t=5','t=6','t=7'])"
   ]
  },
  {
   "cell_type": "markdown",
   "metadata": {},
   "source": [
    "* Convert 0 values into None"
   ]
  },
  {
   "cell_type": "code",
   "execution_count": 104,
   "metadata": {},
   "outputs": [
    {
     "data": {
      "text/html": [
       "<div>\n",
       "<style scoped>\n",
       "    .dataframe tbody tr th:only-of-type {\n",
       "        vertical-align: middle;\n",
       "    }\n",
       "\n",
       "    .dataframe tbody tr th {\n",
       "        vertical-align: top;\n",
       "    }\n",
       "\n",
       "    .dataframe thead th {\n",
       "        text-align: right;\n",
       "    }\n",
       "</style>\n",
       "<table border=\"1\" class=\"dataframe\">\n",
       "  <thead>\n",
       "    <tr style=\"text-align: right;\">\n",
       "      <th></th>\n",
       "      <th>0</th>\n",
       "      <th>1</th>\n",
       "      <th>2</th>\n",
       "      <th>3</th>\n",
       "      <th>4</th>\n",
       "    </tr>\n",
       "  </thead>\n",
       "  <tbody>\n",
       "    <tr>\n",
       "      <th>t=1</th>\n",
       "      <td>1.0</td>\n",
       "      <td>NaN</td>\n",
       "      <td>NaN</td>\n",
       "      <td>NaN</td>\n",
       "      <td>NaN</td>\n",
       "    </tr>\n",
       "    <tr>\n",
       "      <th>t=2</th>\n",
       "      <td>2.0</td>\n",
       "      <td>1.0</td>\n",
       "      <td>NaN</td>\n",
       "      <td>NaN</td>\n",
       "      <td>NaN</td>\n",
       "    </tr>\n",
       "    <tr>\n",
       "      <th>t=3</th>\n",
       "      <td>3.0</td>\n",
       "      <td>2.0</td>\n",
       "      <td>1.0</td>\n",
       "      <td>NaN</td>\n",
       "      <td>NaN</td>\n",
       "    </tr>\n",
       "    <tr>\n",
       "      <th>t=4</th>\n",
       "      <td>4.0</td>\n",
       "      <td>3.0</td>\n",
       "      <td>2.0</td>\n",
       "      <td>1.0</td>\n",
       "      <td>NaN</td>\n",
       "    </tr>\n",
       "    <tr>\n",
       "      <th>t=5</th>\n",
       "      <td>5.0</td>\n",
       "      <td>4.0</td>\n",
       "      <td>3.0</td>\n",
       "      <td>2.0</td>\n",
       "      <td>1.0</td>\n",
       "    </tr>\n",
       "    <tr>\n",
       "      <th>t=6</th>\n",
       "      <td>6.0</td>\n",
       "      <td>5.0</td>\n",
       "      <td>4.0</td>\n",
       "      <td>3.0</td>\n",
       "      <td>2.0</td>\n",
       "    </tr>\n",
       "    <tr>\n",
       "      <th>t=7</th>\n",
       "      <td>7.0</td>\n",
       "      <td>6.0</td>\n",
       "      <td>5.0</td>\n",
       "      <td>4.0</td>\n",
       "      <td>3.0</td>\n",
       "    </tr>\n",
       "  </tbody>\n",
       "</table>\n",
       "</div>"
      ],
      "text/plain": [
       "       0    1    2    3    4\n",
       "t=1  1.0  NaN  NaN  NaN  NaN\n",
       "t=2  2.0  1.0  NaN  NaN  NaN\n",
       "t=3  3.0  2.0  1.0  NaN  NaN\n",
       "t=4  4.0  3.0  2.0  1.0  NaN\n",
       "t=5  5.0  4.0  3.0  2.0  1.0\n",
       "t=6  6.0  5.0  4.0  3.0  2.0\n",
       "t=7  7.0  6.0  5.0  4.0  3.0"
      ]
     },
     "execution_count": 104,
     "metadata": {},
     "output_type": "execute_result"
    }
   ],
   "source": [
    "for i in range(max_lag+1):\n",
    "    for j in range(len(X)):\n",
    "        if Xlag[j,i] == 0:\n",
    "            Xlag[j,i] = None\n",
    "pd.DataFrame(Xlag, index = ['t=1','t=2','t=3','t=4','t=5','t=6','t=7'])"
   ]
  },
  {
   "cell_type": "markdown",
   "metadata": {},
   "source": [
    "**Invoke the bicAR function. Taking AR(3) as an example.**"
   ]
  },
  {
   "cell_type": "markdown",
   "metadata": {},
   "source": [
    "* Set up parameters"
   ]
  },
  {
   "cell_type": "code",
   "execution_count": 105,
   "metadata": {},
   "outputs": [],
   "source": [
    "class AR3_param:\n",
    "    def __init__(self):\n",
    "        self.phi1 = 0.5\n",
    "        self.phi2 = 0.3\n",
    "        self.phi3 = 0.1\n",
    "        self.sigma2 = 2\n",
    "\n",
    "AR3 = AR3_param()"
   ]
  },
  {
   "cell_type": "code",
   "execution_count": 106,
   "metadata": {},
   "outputs": [
    {
     "name": "stdout",
     "output_type": "stream",
     "text": [
      "0.5\n",
      "0.3\n",
      "0.1\n",
      "2\n"
     ]
    }
   ],
   "source": [
    "print(AR3.phi1)\n",
    "print(AR3.phi2)\n",
    "print(AR3.phi3)\n",
    "print(AR3.sigma2)"
   ]
  },
  {
   "cell_type": "markdown",
   "metadata": {},
   "source": [
    "* Simulate data"
   ]
  },
  {
   "cell_type": "code",
   "execution_count": 154,
   "metadata": {},
   "outputs": [],
   "source": [
    "import numpy as np\n",
    "import statsmodels.api as sm\n",
    "\n",
    "T = 10000\n",
    "ar_param = np.array([1, -AR3.phi1, -AR3.phi2, -AR3.phi3])\n",
    "ma_param = np.array([1])\n",
    "\n",
    "np.random.seed(1) \n",
    "Y = sm.tsa.arma_generate_sample(ar=ar_param, ma=ma_param, nsample=T, sigma = AR3.sigma2**0.5)"
   ]
  },
  {
   "cell_type": "markdown",
   "metadata": {},
   "source": [
    "* Select p using bicAR"
   ]
  },
  {
   "cell_type": "code",
   "execution_count": 155,
   "metadata": {},
   "outputs": [
    {
     "data": {
      "text/html": [
       "<div>\n",
       "<style scoped>\n",
       "    .dataframe tbody tr th:only-of-type {\n",
       "        vertical-align: middle;\n",
       "    }\n",
       "\n",
       "    .dataframe tbody tr th {\n",
       "        vertical-align: top;\n",
       "    }\n",
       "\n",
       "    .dataframe thead th {\n",
       "        text-align: right;\n",
       "    }\n",
       "</style>\n",
       "<table border=\"1\" class=\"dataframe\">\n",
       "  <thead>\n",
       "    <tr style=\"text-align: right;\">\n",
       "      <th></th>\n",
       "      <th>selected p</th>\n",
       "      <th>BIC</th>\n",
       "    </tr>\n",
       "  </thead>\n",
       "  <tbody>\n",
       "    <tr>\n",
       "      <th>bicAR</th>\n",
       "      <td>3</td>\n",
       "      <td>0.693306</td>\n",
       "    </tr>\n",
       "    <tr>\n",
       "      <th>statsmodel</th>\n",
       "      <td>3</td>\n",
       "      <td>35311.476681</td>\n",
       "    </tr>\n",
       "  </tbody>\n",
       "</table>\n",
       "</div>"
      ],
      "text/plain": [
       "            selected p           BIC\n",
       "bicAR                3      0.693306\n",
       "statsmodel           3  35311.476681"
      ]
     },
     "execution_count": 155,
     "metadata": {},
     "output_type": "execute_result"
    }
   ],
   "source": [
    "from bic import bicAR\n",
    "(BIC, p_optimal, BIC_statsmodel, p_statsmodel) = bicAR(Y,6)\n",
    "\n",
    "p   = [p_optimal,p_statsmodel]\n",
    "bic = [BIC, BIC_statsmodel]\n",
    "import pandas as pd\n",
    "pd.DataFrame({'selected p': p, 'BIC': bic}, index=['bicAR','statsmodel'])"
   ]
  },
  {
   "cell_type": "markdown",
   "metadata": {},
   "source": [
    "#### Difference between BIC obtained by bicAR and statsmodel\n",
    "* The BIC that statsmodel applies is (approximately) the general form for any parametric models:  \n",
    "(Wikipedia: https://en.wikipedia.org/wiki/Bayesian_information_criterion)  \n",
    "$BIC = ln(n)k - 2ln\\hat{L}$\n",
    "    * $\\hat{L}$: the maximized value of the likelihood function of the model.\n",
    "    * $k$: the number of parameters estimated by the model. Note that this includes the intercept, the slope parameters, and the constant variance of the errors. **However, it seems that in statsmodel, the variance of errors does not account for the number of parameters.**\n",
    "    * $n$: the number of observations."
   ]
  },
  {
   "cell_type": "markdown",
   "metadata": {},
   "source": [
    " #### Derive BIC for linear regression models\n",
    " * $\\left.Y\\right|X \\sim N(X\\beta,\\ \\sigma^2I_n)$, where $Y$ is $n\\times1$, $X$ is $n\\times r$  \n",
    " \n",
    " \n",
    " * $\\Rightarrow L(\\beta\\mid Y, X) = \\frac{1}{\\sqrt[]{2\\pi}^{n}{\\large \\sigma^n}} {\\Large e}^{-\\frac{1}{2\\sigma^2}(Y-X\\beta)^\\prime(Y-X\\beta)}$  \n",
    " \n",
    " \n",
    " * In linear regression models, if all the basic assumptions are satisfied (exogeneity, homoscedastisity...), OLS estimatior is equivalent to ML estimator:  \n",
    " $\\hat{\\beta}_{\\small ML}=(X^\\prime X)^{-1}X^\\prime Y$  \n",
    " \n",
    " $\\hat{\\sigma}^2=\\frac{{\\large (Y-X \\hat{\\beta})^\\prime (Y-X \\hat{\\beta})}}{{\\large n}}$\n",
    " \n",
    " \n",
    " * $\\Rightarrow \\hat{L}= \\frac{1}{\\sqrt[]{2\\pi}^{n}{\\large \\hat{\\sigma}^n}}{\\Large e}^{-\\frac{1}{2\\hat{\\sigma}^{2}}(\\hat{\\sigma}^{2} {\\large n})}=\\frac{1}{\\sqrt[]{2\\pi}^{n}{\\large \\hat{\\sigma}^n}}{\\Large e}^{-\\frac{n}{2}}$  \n",
    " \n",
    "    $\\Rightarrow  ln\\hat{L}= ln(\\frac{1}{\\sqrt[]{2\\pi}^{n}})+ln(\\frac{1}{\\hat{\\sigma}^{2}})^{\\frac{n}{2}}-\\frac{{\\large n}}{2}= - \\frac{{\\large n}}{2}ln(2\\pi)-\\frac{{\\large n}}{2}-\\frac{{\\large n}}{2}ln(\\hat{\\sigma}^{2})$  \n",
    "\n",
    "* $\\Rightarrow BIC \\equiv ln(n)(r+1) + nln(2\\pi) + n + nln(\\hat{\\sigma}^{2})$  \n",
    "    \n",
    "    $\\qquad \\quad = nln(\\hat{\\sigma}^{2}) + (r+1)ln(n) + nln(2\\pi) + n$  \n",
    "    \n",
    "    $\\qquad \\quad = n\\left( ln(\\hat{\\sigma}^{2})+ (r+1)\\frac{{\\large ln(n)}}{{\\large n}}+ ln(2\\pi)+1 \\right)$\n"
   ]
  },
  {
   "cell_type": "markdown",
   "metadata": {},
   "source": [
    "* Here in our $AR(p)$ setup:\n",
    "    * $n = T-p$\n",
    "    * $r+1 = p+1$: $p$ denotes number of lags (slopes in the linear regression model); intercept (constant $\\mu$)  \n",
    "    \n",
    "    $\\Rightarrow$ In statsmodel: $BIC_{AR}=(T-p)\\left( ln(\\hat{\\sigma}^{2})+ (p+1)\\frac{{\\large ln(T-p)}}{{\\large (T-p)}}+ ln(2\\pi)+1 \\right)$   $\\ (Equation\\ 1)$\n",
    "\n",
    "    We can check this result in **Example 2** below."
   ]
  },
  {
   "cell_type": "markdown",
   "metadata": {},
   "source": [
    "* In the bicAR function, we use the formula in lecture notes which, in this case, is  \n",
    "$BIC = ln(\\hat{\\sigma}^{2})+ (p+1)\\frac{{\\large ln(T-p)}}{{\\large (T-p)}}$"
   ]
  },
  {
   "cell_type": "markdown",
   "metadata": {},
   "source": [
    "* Let's convert BIC_statsmodel into BIC computed in bicAR"
   ]
  },
  {
   "cell_type": "code",
   "execution_count": 156,
   "metadata": {},
   "outputs": [
    {
     "data": {
      "text/plain": [
       "0.6943302638547535"
      ]
     },
     "execution_count": 156,
     "metadata": {},
     "output_type": "execute_result"
    }
   ],
   "source": [
    "BIC_statsmodel/(T-p_statsmodel) -  np.log(2*np.pi)-1"
   ]
  },
  {
   "cell_type": "code",
   "execution_count": 157,
   "metadata": {},
   "outputs": [
    {
     "data": {
      "text/plain": [
       "0.6933061263014961"
      ]
     },
     "execution_count": 157,
     "metadata": {},
     "output_type": "execute_result"
    }
   ],
   "source": [
    "BIC # BIC computed in bicAR"
   ]
  },
  {
   "cell_type": "markdown",
   "metadata": {},
   "source": [
    "* **Example 2**: results of OLS regression (checking lag = 3)\n",
    "    * Compare BIC given by Regression Results and that computed manually according to $Equation\\ 1$"
   ]
  },
  {
   "cell_type": "code",
   "execution_count": 161,
   "metadata": {},
   "outputs": [
    {
     "name": "stdout",
     "output_type": "stream",
     "text": [
      "                            OLS Regression Results                            \n",
      "==============================================================================\n",
      "Dep. Variable:                      y   R-squared:                       0.731\n",
      "Model:                            OLS   Adj. R-squared:                  0.731\n",
      "Method:                 Least Squares   F-statistic:                     9074.\n",
      "Date:                Tue, 16 Apr 2019   Prob (F-statistic):               0.00\n",
      "Time:                        01:38:32   Log-Likelihood:                -17637.\n",
      "No. Observations:                9997   AIC:                         3.528e+04\n",
      "Df Residuals:                    9993   BIC:                         3.531e+04\n",
      "Df Model:                           3                                         \n",
      "Covariance Type:            nonrobust                                         \n",
      "==============================================================================\n",
      "                 coef    std err          t      P>|t|      [0.025      0.975]\n",
      "------------------------------------------------------------------------------\n",
      "const          0.0135      0.014      0.954      0.340      -0.014       0.041\n",
      "x1             0.4961      0.010     49.837      0.000       0.477       0.516\n",
      "x2             0.3061      0.011     28.625      0.000       0.285       0.327\n",
      "x3             0.0996      0.010     10.008      0.000       0.080       0.119\n",
      "==============================================================================\n",
      "Omnibus:                        1.428   Durbin-Watson:                   2.003\n",
      "Prob(Omnibus):                  0.490   Jarque-Bera (JB):                1.392\n",
      "Skew:                           0.025   Prob(JB):                        0.499\n",
      "Kurtosis:                       3.030   Cond. No.                         4.44\n",
      "==============================================================================\n",
      "\n",
      "Warnings:\n",
      "[1] Standard Errors assume that the covariance matrix of the errors is correctly specified.\n"
     ]
    }
   ],
   "source": [
    "p = 3\n",
    "T = len(Y)\n",
    "mu_aux = np.transpose(np.matrix(np.ones(T)))\n",
    "Ylag   = lagmat2ds(x=Y, maxlag0=p)\n",
    "exogen = np.array(np.concatenate((mu_aux, Ylag[:,1:]), axis=1))\n",
    "\n",
    "for i in range(p+1):\n",
    "    for j in range(T):\n",
    "        if exogen[j,i] == 0:\n",
    "            exogen[j,i] = None \n",
    "\n",
    "reg0         = sm.OLS(endog=Y, exog=exogen, missing='drop')\n",
    "sm_resid     = results.resid\n",
    "ssr          = np.sum(sm_resid**2)\n",
    "sm_bic       = results.bic\n",
    "results      = reg0.fit()\n",
    "print(results.summary())"
   ]
  },
  {
   "cell_type": "code",
   "execution_count": 162,
   "metadata": {
    "scrolled": true
   },
   "outputs": [
    {
     "name": "stdout",
     "output_type": "stream",
     "text": [
      "35311.4766806502\n"
     ]
    }
   ],
   "source": [
    "BIC_manual = (T-p) * (np.log(ssr/(T-p))+ (p+1) * np.log(T-p)/(T-p)+ np.log(2*np.pi) + 1)\n",
    "\n",
    "print(BIC_manual)"
   ]
  },
  {
   "cell_type": "code",
   "execution_count": 163,
   "metadata": {},
   "outputs": [
    {
     "data": {
      "text/plain": [
       "35311.476680650194"
      ]
     },
     "execution_count": 163,
     "metadata": {},
     "output_type": "execute_result"
    }
   ],
   "source": [
    "sm_bic"
   ]
  },
  {
   "cell_type": "code",
   "execution_count": null,
   "metadata": {},
   "outputs": [],
   "source": []
  }
 ],
 "metadata": {
  "kernelspec": {
   "display_name": "Python 3",
   "language": "python",
   "name": "python3"
  },
  "language_info": {
   "codemirror_mode": {
    "name": "ipython",
    "version": 3
   },
   "file_extension": ".py",
   "mimetype": "text/x-python",
   "name": "python",
   "nbconvert_exporter": "python",
   "pygments_lexer": "ipython3",
   "version": "3.7.1"
  }
 },
 "nbformat": 4,
 "nbformat_minor": 2
}
