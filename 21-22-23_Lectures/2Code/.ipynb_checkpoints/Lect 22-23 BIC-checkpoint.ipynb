{
 "cells": [
  {
   "cell_type": "markdown",
   "metadata": {},
   "source": [
    "## Lecture 22-23 BIC\n",
    "* **Define a function to compute BIC of given p and select the \"optimal\" p for AR(p) model**"
   ]
  },
  {
   "cell_type": "markdown",
   "metadata": {},
   "source": [
    "Define a function named bicAR\n",
    "* `lagmat2ds(x,maxlag0)`(statsmodels.tsa.tsatools.lagmat2ds): Generate lagmatrix for 2d array, columns arranged by variables(each column is a series of data starting from a certain lag). x is the original data. maxlag0 is the maximum lags to generate (including lag 0). See Example 1.\n",
    "* `statsmodels.api.OLS()`: \n",
    "    * One of the arguments here is \"missing\".Available options are ‘none’, ‘drop’, and ‘raise’. If ‘none’, no nan checking is done. If ‘drop’, any observations with nans are dropped. If ‘raise’, an error is raised. Default is ‘none.’\n",
    "    * statsmodels.api.OLS() also displays BIC, which can be extracted by \".bic\" from results or simply read the summary table. See Example 2.\n",
    "    * Here we need to include the constant term (estimation of $\\mu$) in the regression by genrating a vector of 1s."
   ]
  },
  {
   "cell_type": "code",
   "execution_count": 1,
   "metadata": {},
   "outputs": [],
   "source": [
    "def bicAR(Y, pmax):\n",
    "    \"\"\"\n",
    "    Calculate the Bayes Information Criterion for a univariate AR(p) model.\n",
    "    \n",
    "    Inputs:\n",
    "        Y   : Times series data. 1 by n. A list or an array.\n",
    "        pmax: User-specified upper bound of number of lags\n",
    "        \n",
    "    Outputs:\n",
    "        BIC           : Bayes Information Criterion\n",
    "        p_optimal     : The optimal p that generates BIC\n",
    "        BIC_statsmodel: BIC given by statsmodel\n",
    "        p_statsmodel  : The optimal p given by comparing BIC_statsmodel\n",
    "    \"\"\"\n",
    "    import numpy as np\n",
    "    import statsmodels.api as sm\n",
    "    from statsmodels.tsa.tsatools import lagmat2ds\n",
    "    \n",
    "    Y          = np.array(Y)    # in case the input is of other datatypes\n",
    "    bic_aux    = np.zeros(pmax)\n",
    "    T          = len(Y)    \n",
    "    mu_aux     = np.transpose(np.matrix(np.ones(T)))\n",
    "    bic_sm_aux = []\n",
    "    \n",
    "    for i_p in range(pmax): # 0,1,2..., pmax-1, so actual lag is i_p+1\n",
    "        Ylag   = lagmat2ds(x=Y, maxlag0=i_p+1) # The first column is with lag 0   \n",
    "        exogen = np.array(np.concatenate((mu_aux, Ylag[:,1:]), axis=1))\n",
    "\n",
    "        for i in range(i_p+2):\n",
    "            for j in range(T):\n",
    "                if exogen[j,i] == 0:\n",
    "                    exogen[j,i] = None \n",
    "                    \n",
    "        reg1         = sm.OLS(endog=Y, exog=exogen, missing='drop')\n",
    "        results      = reg1.fit()\n",
    "        bic_sm_aux.append(results.bic)\n",
    "        \n",
    "        OLS_residual = results.resid     # a T-i_p-1 by 1 array\n",
    "        aux_resid    = OLS_residual[i_p+1:]       \n",
    "        part_SSR     = np.sum(aux_resid**2)\n",
    "        bic_aux[i_p] = np.log(part_SSR/T) + (i_p+2)*np.log(T)/T\n",
    "    \n",
    "    BIC_statsmodel = min(bic_sm_aux)\n",
    "    p_statsmodel   = bic_sm_aux.index(BIC_statsmodel)+1\n",
    "    BIC            = np.nanmin(bic_aux)\n",
    "    p_optimal      = np.where(bic_aux==BIC)[0][0]+1\n",
    "    \n",
    "    \n",
    "    return BIC, p_optimal, BIC_statsmodel, p_statsmodel\n"
   ]
  },
  {
   "cell_type": "markdown",
   "metadata": {},
   "source": [
    "**Example 1**\n",
    "* Be careful: For time lags where there lack data, python replace them with 0, not None! So before we run the OLS regrssion, we must change those 0 values into None and then drop those datapoints in the regression."
   ]
  },
  {
   "cell_type": "code",
   "execution_count": 2,
   "metadata": {},
   "outputs": [
    {
     "data": {
      "text/html": [
       "<div>\n",
       "<style scoped>\n",
       "    .dataframe tbody tr th:only-of-type {\n",
       "        vertical-align: middle;\n",
       "    }\n",
       "\n",
       "    .dataframe tbody tr th {\n",
       "        vertical-align: top;\n",
       "    }\n",
       "\n",
       "    .dataframe thead th {\n",
       "        text-align: right;\n",
       "    }\n",
       "</style>\n",
       "<table border=\"1\" class=\"dataframe\">\n",
       "  <thead>\n",
       "    <tr style=\"text-align: right;\">\n",
       "      <th></th>\n",
       "      <th>0</th>\n",
       "      <th>1</th>\n",
       "      <th>2</th>\n",
       "      <th>3</th>\n",
       "      <th>4</th>\n",
       "    </tr>\n",
       "  </thead>\n",
       "  <tbody>\n",
       "    <tr>\n",
       "      <th>t=1</th>\n",
       "      <td>1.0</td>\n",
       "      <td>0.0</td>\n",
       "      <td>0.0</td>\n",
       "      <td>0.0</td>\n",
       "      <td>0.0</td>\n",
       "    </tr>\n",
       "    <tr>\n",
       "      <th>t=2</th>\n",
       "      <td>2.0</td>\n",
       "      <td>1.0</td>\n",
       "      <td>0.0</td>\n",
       "      <td>0.0</td>\n",
       "      <td>0.0</td>\n",
       "    </tr>\n",
       "    <tr>\n",
       "      <th>t=3</th>\n",
       "      <td>3.0</td>\n",
       "      <td>2.0</td>\n",
       "      <td>1.0</td>\n",
       "      <td>0.0</td>\n",
       "      <td>0.0</td>\n",
       "    </tr>\n",
       "    <tr>\n",
       "      <th>t=4</th>\n",
       "      <td>4.0</td>\n",
       "      <td>3.0</td>\n",
       "      <td>2.0</td>\n",
       "      <td>1.0</td>\n",
       "      <td>0.0</td>\n",
       "    </tr>\n",
       "    <tr>\n",
       "      <th>t=5</th>\n",
       "      <td>5.0</td>\n",
       "      <td>4.0</td>\n",
       "      <td>3.0</td>\n",
       "      <td>2.0</td>\n",
       "      <td>1.0</td>\n",
       "    </tr>\n",
       "    <tr>\n",
       "      <th>t=6</th>\n",
       "      <td>6.0</td>\n",
       "      <td>5.0</td>\n",
       "      <td>4.0</td>\n",
       "      <td>3.0</td>\n",
       "      <td>2.0</td>\n",
       "    </tr>\n",
       "    <tr>\n",
       "      <th>t=7</th>\n",
       "      <td>7.0</td>\n",
       "      <td>6.0</td>\n",
       "      <td>5.0</td>\n",
       "      <td>4.0</td>\n",
       "      <td>3.0</td>\n",
       "    </tr>\n",
       "  </tbody>\n",
       "</table>\n",
       "</div>"
      ],
      "text/plain": [
       "       0    1    2    3    4\n",
       "t=1  1.0  0.0  0.0  0.0  0.0\n",
       "t=2  2.0  1.0  0.0  0.0  0.0\n",
       "t=3  3.0  2.0  1.0  0.0  0.0\n",
       "t=4  4.0  3.0  2.0  1.0  0.0\n",
       "t=5  5.0  4.0  3.0  2.0  1.0\n",
       "t=6  6.0  5.0  4.0  3.0  2.0\n",
       "t=7  7.0  6.0  5.0  4.0  3.0"
      ]
     },
     "execution_count": 2,
     "metadata": {},
     "output_type": "execute_result"
    }
   ],
   "source": [
    "import numpy as np\n",
    "from statsmodels.tsa.tsatools import lagmat2ds\n",
    "import pandas as pd\n",
    "\n",
    "max_lag = 4\n",
    "\n",
    "X = np.array([1,2,3,4,5,6,7])\n",
    "Xlag = lagmat2ds(x=X, maxlag0=max_lag)\n",
    "pd.DataFrame(Xlag, index = ['t=1','t=2','t=3','t=4','t=5','t=6','t=7'])"
   ]
  },
  {
   "cell_type": "markdown",
   "metadata": {},
   "source": [
    "* Convert 0 values into None"
   ]
  },
  {
   "cell_type": "code",
   "execution_count": 3,
   "metadata": {},
   "outputs": [
    {
     "data": {
      "text/html": [
       "<div>\n",
       "<style scoped>\n",
       "    .dataframe tbody tr th:only-of-type {\n",
       "        vertical-align: middle;\n",
       "    }\n",
       "\n",
       "    .dataframe tbody tr th {\n",
       "        vertical-align: top;\n",
       "    }\n",
       "\n",
       "    .dataframe thead th {\n",
       "        text-align: right;\n",
       "    }\n",
       "</style>\n",
       "<table border=\"1\" class=\"dataframe\">\n",
       "  <thead>\n",
       "    <tr style=\"text-align: right;\">\n",
       "      <th></th>\n",
       "      <th>0</th>\n",
       "      <th>1</th>\n",
       "      <th>2</th>\n",
       "      <th>3</th>\n",
       "      <th>4</th>\n",
       "    </tr>\n",
       "  </thead>\n",
       "  <tbody>\n",
       "    <tr>\n",
       "      <th>t=1</th>\n",
       "      <td>1.0</td>\n",
       "      <td>NaN</td>\n",
       "      <td>NaN</td>\n",
       "      <td>NaN</td>\n",
       "      <td>NaN</td>\n",
       "    </tr>\n",
       "    <tr>\n",
       "      <th>t=2</th>\n",
       "      <td>2.0</td>\n",
       "      <td>1.0</td>\n",
       "      <td>NaN</td>\n",
       "      <td>NaN</td>\n",
       "      <td>NaN</td>\n",
       "    </tr>\n",
       "    <tr>\n",
       "      <th>t=3</th>\n",
       "      <td>3.0</td>\n",
       "      <td>2.0</td>\n",
       "      <td>1.0</td>\n",
       "      <td>NaN</td>\n",
       "      <td>NaN</td>\n",
       "    </tr>\n",
       "    <tr>\n",
       "      <th>t=4</th>\n",
       "      <td>4.0</td>\n",
       "      <td>3.0</td>\n",
       "      <td>2.0</td>\n",
       "      <td>1.0</td>\n",
       "      <td>NaN</td>\n",
       "    </tr>\n",
       "    <tr>\n",
       "      <th>t=5</th>\n",
       "      <td>5.0</td>\n",
       "      <td>4.0</td>\n",
       "      <td>3.0</td>\n",
       "      <td>2.0</td>\n",
       "      <td>1.0</td>\n",
       "    </tr>\n",
       "    <tr>\n",
       "      <th>t=6</th>\n",
       "      <td>6.0</td>\n",
       "      <td>5.0</td>\n",
       "      <td>4.0</td>\n",
       "      <td>3.0</td>\n",
       "      <td>2.0</td>\n",
       "    </tr>\n",
       "    <tr>\n",
       "      <th>t=7</th>\n",
       "      <td>7.0</td>\n",
       "      <td>6.0</td>\n",
       "      <td>5.0</td>\n",
       "      <td>4.0</td>\n",
       "      <td>3.0</td>\n",
       "    </tr>\n",
       "  </tbody>\n",
       "</table>\n",
       "</div>"
      ],
      "text/plain": [
       "       0    1    2    3    4\n",
       "t=1  1.0  NaN  NaN  NaN  NaN\n",
       "t=2  2.0  1.0  NaN  NaN  NaN\n",
       "t=3  3.0  2.0  1.0  NaN  NaN\n",
       "t=4  4.0  3.0  2.0  1.0  NaN\n",
       "t=5  5.0  4.0  3.0  2.0  1.0\n",
       "t=6  6.0  5.0  4.0  3.0  2.0\n",
       "t=7  7.0  6.0  5.0  4.0  3.0"
      ]
     },
     "execution_count": 3,
     "metadata": {},
     "output_type": "execute_result"
    }
   ],
   "source": [
    "for i in range(max_lag+1):\n",
    "    for j in range(len(X)):\n",
    "        if Xlag[j,i] == 0:\n",
    "            Xlag[j,i] = None\n",
    "pd.DataFrame(Xlag, index = ['t=1','t=2','t=3','t=4','t=5','t=6','t=7'])"
   ]
  },
  {
   "cell_type": "markdown",
   "metadata": {},
   "source": [
    "**Invoke the bicAR function. Taking AR(3) as an example.**"
   ]
  },
  {
   "cell_type": "markdown",
   "metadata": {},
   "source": [
    "* Set up parameters"
   ]
  },
  {
   "cell_type": "code",
   "execution_count": 4,
   "metadata": {},
   "outputs": [],
   "source": [
    "class AR3_param:\n",
    "    def __init__(self):\n",
    "        self.phi1 = 0.5\n",
    "        self.phi2 = 0.3\n",
    "        self.phi3 = 0.1\n",
    "        self.sigma2 = 2\n",
    "\n",
    "AR3 = AR3_param()"
   ]
  },
  {
   "cell_type": "code",
   "execution_count": 5,
   "metadata": {},
   "outputs": [
    {
     "name": "stdout",
     "output_type": "stream",
     "text": [
      "0.5\n",
      "0.3\n",
      "0.1\n",
      "2\n"
     ]
    }
   ],
   "source": [
    "print(AR3.phi1)\n",
    "print(AR3.phi2)\n",
    "print(AR3.phi3)\n",
    "print(AR3.sigma2)"
   ]
  },
  {
   "cell_type": "markdown",
   "metadata": {},
   "source": [
    "* Simulate data"
   ]
  },
  {
   "cell_type": "code",
   "execution_count": 6,
   "metadata": {},
   "outputs": [],
   "source": [
    "import numpy as np\n",
    "import statsmodels.api as sm\n",
    "\n",
    "T = 10000\n",
    "ar_param = np.array([1, -AR3.phi1, -AR3.phi2, -AR3.phi3])\n",
    "ma_param = np.array([1])\n",
    "\n",
    "np.random.seed(1) \n",
    "Y = sm.tsa.arma_generate_sample(ar=ar_param, ma=ma_param, nsample=T, sigma = AR3.sigma2**0.5)"
   ]
  },
  {
   "cell_type": "markdown",
   "metadata": {},
   "source": [
    "* **Example 2**: results of OLS regression (checking lag = 2)"
   ]
  },
  {
   "cell_type": "code",
   "execution_count": 7,
   "metadata": {},
   "outputs": [
    {
     "name": "stdout",
     "output_type": "stream",
     "text": [
      "                            OLS Regression Results                            \n",
      "==============================================================================\n",
      "Dep. Variable:                      y   R-squared:                       0.731\n",
      "Model:                            OLS   Adj. R-squared:                  0.731\n",
      "Method:                 Least Squares   F-statistic:                     9074.\n",
      "Date:                Tue, 09 Apr 2019   Prob (F-statistic):               0.00\n",
      "Time:                        01:44:38   Log-Likelihood:                -17637.\n",
      "No. Observations:                9997   AIC:                         3.528e+04\n",
      "Df Residuals:                    9993   BIC:                         3.531e+04\n",
      "Df Model:                           3                                         \n",
      "Covariance Type:            nonrobust                                         \n",
      "==============================================================================\n",
      "                 coef    std err          t      P>|t|      [0.025      0.975]\n",
      "------------------------------------------------------------------------------\n",
      "const          0.0135      0.014      0.954      0.340      -0.014       0.041\n",
      "x1             0.4961      0.010     49.837      0.000       0.477       0.516\n",
      "x2             0.3061      0.011     28.625      0.000       0.285       0.327\n",
      "x3             0.0996      0.010     10.008      0.000       0.080       0.119\n",
      "==============================================================================\n",
      "Omnibus:                        1.428   Durbin-Watson:                   2.003\n",
      "Prob(Omnibus):                  0.490   Jarque-Bera (JB):                1.392\n",
      "Skew:                           0.025   Prob(JB):                        0.499\n",
      "Kurtosis:                       3.030   Cond. No.                         4.44\n",
      "==============================================================================\n",
      "\n",
      "Warnings:\n",
      "[1] Standard Errors assume that the covariance matrix of the errors is correctly specified.\n"
     ]
    }
   ],
   "source": [
    "p = 2\n",
    "T = len(Y)\n",
    "mu_aux = np.transpose(np.matrix(np.ones(T)))\n",
    "Ylag   = lagmat2ds(x=Y, maxlag0=p+1)\n",
    "exogen = np.array(np.concatenate((mu_aux, Ylag[:,1:]), axis=1))\n",
    "\n",
    "for i in range(p+2):\n",
    "    for j in range(T):\n",
    "        if exogen[j,i] == 0:\n",
    "            exogen[j,i] = None \n",
    "\n",
    "reg0         = sm.OLS(endog=Y, exog=exogen, missing='drop')\n",
    "results      = reg0.fit()\n",
    "print(results.summary())"
   ]
  },
  {
   "cell_type": "markdown",
   "metadata": {},
   "source": [
    "* Select p using bicAR"
   ]
  },
  {
   "cell_type": "code",
   "execution_count": 8,
   "metadata": {},
   "outputs": [
    {
     "data": {
      "text/html": [
       "<div>\n",
       "<style scoped>\n",
       "    .dataframe tbody tr th:only-of-type {\n",
       "        vertical-align: middle;\n",
       "    }\n",
       "\n",
       "    .dataframe tbody tr th {\n",
       "        vertical-align: top;\n",
       "    }\n",
       "\n",
       "    .dataframe thead th {\n",
       "        text-align: right;\n",
       "    }\n",
       "</style>\n",
       "<table border=\"1\" class=\"dataframe\">\n",
       "  <thead>\n",
       "    <tr style=\"text-align: right;\">\n",
       "      <th></th>\n",
       "      <th>selected p</th>\n",
       "      <th>BIC</th>\n",
       "    </tr>\n",
       "  </thead>\n",
       "  <tbody>\n",
       "    <tr>\n",
       "      <th>bicAR</th>\n",
       "      <td>3</td>\n",
       "      <td>0.693306</td>\n",
       "    </tr>\n",
       "    <tr>\n",
       "      <th>statsmodel</th>\n",
       "      <td>3</td>\n",
       "      <td>35311.476681</td>\n",
       "    </tr>\n",
       "  </tbody>\n",
       "</table>\n",
       "</div>"
      ],
      "text/plain": [
       "            selected p           BIC\n",
       "bicAR                3      0.693306\n",
       "statsmodel           3  35311.476681"
      ]
     },
     "execution_count": 8,
     "metadata": {},
     "output_type": "execute_result"
    }
   ],
   "source": [
    "from bic import bicAR\n",
    "(BIC, p_optimal, BIC_statsmodel, p_statsmodel) = bicAR(Y,6)\n",
    "\n",
    "p   = [p_optimal,p_statsmodel]\n",
    "bic = [BIC, BIC_statsmodel]\n",
    "import pandas as pd\n",
    "pd.DataFrame({'selected p': p, 'BIC': bic}, index=['bicAR','statsmodel'])"
   ]
  },
  {
   "cell_type": "code",
   "execution_count": null,
   "metadata": {},
   "outputs": [],
   "source": []
  }
 ],
 "metadata": {
  "kernelspec": {
   "display_name": "Python 3",
   "language": "python",
   "name": "python3"
  },
  "language_info": {
   "codemirror_mode": {
    "name": "ipython",
    "version": 3
   },
   "file_extension": ".py",
   "mimetype": "text/x-python",
   "name": "python",
   "nbconvert_exporter": "python",
   "pygments_lexer": "ipython3",
   "version": "3.7.1"
  },
  "latex_envs": {
   "LaTeX_envs_menu_present": true,
   "autoclose": false,
   "autocomplete": true,
   "bibliofile": "biblio.bib",
   "cite_by": "apalike",
   "current_citInitial": 1,
   "eqLabelWithNumbers": true,
   "eqNumInitial": 1,
   "hotkeys": {
    "equation": "Ctrl-E",
    "itemize": "Ctrl-I"
   },
   "labels_anchors": false,
   "latex_user_defs": false,
   "report_style_numbering": false,
   "user_envs_cfg": false
  },
  "varInspector": {
   "cols": {
    "lenName": 16,
    "lenType": 16,
    "lenVar": 40
   },
   "kernels_config": {
    "python": {
     "delete_cmd_postfix": "",
     "delete_cmd_prefix": "del ",
     "library": "var_list.py",
     "varRefreshCmd": "print(var_dic_list())"
    },
    "r": {
     "delete_cmd_postfix": ") ",
     "delete_cmd_prefix": "rm(",
     "library": "var_list.r",
     "varRefreshCmd": "cat(var_dic_list()) "
    }
   },
   "types_to_exclude": [
    "module",
    "function",
    "builtin_function_or_method",
    "instance",
    "_Feature"
   ],
   "window_display": false
  }
 },
 "nbformat": 4,
 "nbformat_minor": 2
}
