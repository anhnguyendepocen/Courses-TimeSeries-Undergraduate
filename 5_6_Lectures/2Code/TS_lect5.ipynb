{
 "cells": [
  {
   "cell_type": "markdown",
   "metadata": {},
   "source": [
    "# Lecture 5-6"
   ]
  },
  {
   "cell_type": "markdown",
   "metadata": {},
   "source": [
    "## Outline:\n",
    "**1. Approximate the mean of $e^x$, where $x \\sim N(\\theta,1)$ in Python and check how it converges to E($e^x$) according to Law of Large Numbers.**\n",
    "\n",
    "**2. Define a function to simulate a MA(q) model and calculate the autocovariance function in Python.**"
   ]
  },
  {
   "cell_type": "markdown",
   "metadata": {},
   "source": [
    "## 1. Law of Large Numbers"
   ]
  },
  {
   "cell_type": "markdown",
   "metadata": {},
   "source": [
    "* 1) Set-up the parameters\n",
    "  * Drawing random numbers: In fact, all the random numbers drawn from a computer are **pseudo** random numbers.To generate a sequence of \"random\" number, the machine starts with setting up an initial number(called \"the seed\", also), multiplying it by a large numbe ,then taking modulo of that product. The resulting number is then used as the seed to generate the next \"random\" number. As a result, so long as the machine starts with the same seed, it can repeat the \"random\" sequence. This algorithm that generating a sequence of numbers whose properties approximate the properties of sequences of random numbers is called Pseudorandom number generator.  \n",
    "  \n",
    "    * np.random.get_state(): This is the function to store the internal state of the generator, of which the first drawing process following by this command.\n",
    "    * np.random.set_state(st): Suppose we have stored the value of np.random.get_state() in the variable \"st\". This statement \"np.random.set_state(st)\", will assign this generator to the drawing process followed by it. Thus, we can get exactly the same sequence of \"random\" numbers.  \n",
    "    \n",
    "  * To calculate $e^x$, we can also use:  \n",
    "  import math  \n",
    "  y = exp(x)  \n",
    "  But here, x can only take the form of a scalar"
   ]
  },
  {
   "cell_type": "code",
   "execution_count": 7,
   "metadata": {},
   "outputs": [],
   "source": [
    "#%% 1) Set-up the parameters\n",
    "import numpy as np\n",
    "\n",
    "I      = 1000;                              # Number of draws used for the approximation\n",
    "theta  = 0;                                 # Change if desired\n",
    "\n",
    "st     = np.random.get_state()              # Store the random number generator(internal state of the generator).\n",
    "x      = np.random.normal(theta, 1, [I,1])  # Draw I normals\n",
    "np.random.set_state(st)                     # Reusing the generator for the next random draw to get the same sequence\n",
    "y      = np.exp(x)\n",
    "\n",
    "approx = np.mean(y);                        #Approximation"
   ]
  },
  {
   "cell_type": "code",
   "execution_count": 36,
   "metadata": {},
   "outputs": [
    {
     "name": "stdout",
     "output_type": "stream",
     "text": [
      "         x1\n",
      "0  1.699354\n",
      "1 -0.410910\n",
      "2  1.905357\n",
      "3  3.317991\n",
      "4  2.672233\n",
      "5  2.825450\n",
      "         x2\n",
      "0  1.699354\n",
      "1 -0.410910\n",
      "2  1.905357\n",
      "3  3.317991\n",
      "4  2.672233\n",
      "5  2.825450\n"
     ]
    }
   ],
   "source": [
    "# Reproduce \"random numbers\"\n",
    "import numpy as np\n",
    "import pandas as pd\n",
    "\n",
    "state = np.random.get_state()               \n",
    "x1    = np.random.normal(2, 1, [6,1])  \n",
    "np.random.set_state(state)  \n",
    "x2    = np.random.normal(2, 1, [8,1]) \n",
    "\n",
    "a     = pd.DataFrame(x1,columns={\"x1\"})\n",
    "b     = pd.DataFrame(x2,columns={\"x2\"})\n",
    "print(a)\n",
    "print(b)"
   ]
  },
  {
   "cell_type": "code",
   "execution_count": 3,
   "metadata": {},
   "outputs": [
    {
     "name": "stdout",
     "output_type": "stream",
     "text": [
      "         x1\n",
      "0  3.167134\n",
      "1  2.014396\n",
      "2  2.456969\n",
      "3  0.456391\n",
      "4  1.988360\n",
      "5  2.130139\n",
      "         x2\n",
      "0  3.167134\n",
      "1  2.014396\n",
      "2  2.456969\n",
      "3  0.456391\n",
      "4  1.988360\n",
      "5  2.130139\n",
      "6  2.362845\n",
      "7  2.025820\n",
      "         x3\n",
      "0  2.362845\n",
      "1  2.025820\n",
      "2  2.124081\n",
      "3  3.118202\n",
      "4  2.821254\n",
      "5  1.459734\n"
     ]
    }
   ],
   "source": [
    "state = np.random.get_state()              \n",
    "x1    = np.random.normal(2, 1, [6,1]) \n",
    "st    = np.random.get_state() \n",
    "x3    = np.random.normal(2, 1, [6,1])\n",
    "np.random.set_state(state)  \n",
    "x2    = np.random.normal(2, 1, [8,1]) \n",
    "\n",
    "a     = pd.DataFrame(x1,columns={\"x1\"})\n",
    "b     = pd.DataFrame(x2,columns={\"x2\"})\n",
    "c     = pd.DataFrame(x3,columns={\"x3\"})\n",
    "print(a)\n",
    "print(b)\n",
    "print(c)"
   ]
  },
  {
   "cell_type": "markdown",
   "metadata": {},
   "source": [
    "* 2) Display the approximation"
   ]
  },
  {
   "cell_type": "code",
   "execution_count": 8,
   "metadata": {},
   "outputs": [
    {
     "name": "stdout",
     "output_type": "stream",
     "text": [
      "The approximation of E[exp(X)] where X is Normal with mean 0 and variance 1 using 1000 draws is 1.6202367665597401 .\n"
     ]
    }
   ],
   "source": [
    "#%% 2) Display the approximation\n",
    "\n",
    "print(\"The approximation of E[exp(X)] where X is Normal with mean\", theta, \"and variance 1 using\", I, \"draws is\", approx, \".\")\n"
   ]
  },
  {
   "cell_type": "markdown",
   "metadata": {},
   "source": [
    "* 3) Approximate the variance"
   ]
  },
  {
   "cell_type": "code",
   "execution_count": 14,
   "metadata": {},
   "outputs": [],
   "source": [
    "#%% 3) Approximate the variance\n",
    "\n",
    "sigma2  = np.var(y);"
   ]
  },
  {
   "cell_type": "markdown",
   "metadata": {},
   "source": [
    "* 4) Comparing estimated value with true expectation"
   ]
  },
  {
   "cell_type": "code",
   "execution_count": 13,
   "metadata": {},
   "outputs": [
    {
     "name": "stdout",
     "output_type": "stream",
     "text": [
      "Thus with 95.0 % probability the true mean is between [1.4967599187366072, 1.743713614382873]\n"
     ]
    }
   ],
   "source": [
    "#%%4) LLN\n",
    "\n",
    "from scipy.stats import norm\n",
    "\n",
    "alpha = .05;\n",
    "c     = norm.ppf(1-(alpha/2))  # Standard Normal inverse cumulative distribution function (percent point function)\n",
    "CI    = [ approx - ((sigma2**.5)*c/(I**.5)) , approx + ((sigma2**.5)*c/(I**.5))  ]\n",
    "\n",
    "print(\"Thus with\", (1-alpha)*100, \"% probability the true mean is between\", CI)"
   ]
  },
  {
   "cell_type": "markdown",
   "metadata": {},
   "source": [
    "## Define a function in Python"
   ]
  },
  {
   "cell_type": "markdown",
   "metadata": {},
   "source": [
    "The MA(q) model is specified as follows:  \n",
    "  \n",
    "  $X_t =\\theta_{0}\\epsilon_t + \\theta_{1} \\epsilon_{t-1} + \\theta_{2} \\epsilon_{t-2} + ... + \\theta_{q} \\epsilon_{t-q}$, where $\\epsilon_t \\sim N(0,\\sigma^2)$ i.i.d"
   ]
  },
  {
   "cell_type": "markdown",
   "metadata": {},
   "source": [
    "* In python, a function is defined by calling \"def\". As shown below, GaussianMAq is the name of the function; in the brackets followed, are the arguments (of which names are called \"parameters\") required. The name of the function does not need to be the same with the file name (different from Matlab).\n",
    "\n",
    "\n",
    "* The main body of the function must be indented.\n",
    "\n",
    "\n",
    "* All the variables defined in the function are local variables (the scope of that those variables live in is the function). This means after the function is called and used, those variables will be deleted from the memory. The counterpart of a local varaible is called a global variable.\n",
    "\n",
    "\n",
    "* The \"return\" statement: The return statement appears at the end of the main body. \"Return\" will store the varibales listed after it, which is the output variables. Only those varaibles following \"return\" can \"live out of\" the function and be used for further operations in the program. Note that a function does not necessisarily need a \"return\" statement. (See an example below)\n",
    "\n",
    "\n",
    "* Usually, we put the information of the function (such as explaining what the function is used for, the inputs and outputs, etc.) between \" \" \" ... \" \" \""
   ]
  },
  {
   "cell_type": "markdown",
   "metadata": {},
   "source": [
    "**Some important points**\n",
    "* In python, an array (represented as a vector) has only one dimension. This is quite different from our \"common sense\" that a vector is a special type of matrix that one of the two dimensions is one. \n",
    "  * list and array are two different datatype.\n",
    "  * When first defined, a \"vector\" is taken as a list (See examples below)\n",
    "\n",
    "\n",
    "* Data type is crucial to operations. For example: \n",
    "  * np.shape(theta)[0]-1 : np.shape() is in the type of tuple and contains only one element(since theta is a vector). However, the minus operator is not defined on an operation between a tuple and an integer. If we type \"np.shape(theta)-1\", there will be an error.\n",
    "  * Again, keep in mind the difference between \" * \" defined on matrics and on arrays. For \"-\" substraction and \"+\" addition there is no such difference. Think about the line in the loop:  \n",
    "  aux = (np.array(Xt[0,:])-np.mean(Xt[0,:]) ) * (np.array(Xt[ind_j,:])-np.mean(Xt[ind_j,:]) )  \n",
    "  Here, Xt[0,:] is a matric whereas np.mean() is a float\n",
    "  We must convert Xt[0,:] into an array,not because we cannot substract a scalar from a matrix, but what we want here is an element to element multiplication.\n"
   ]
  },
  {
   "cell_type": "code",
   "execution_count": 48,
   "metadata": {},
   "outputs": [],
   "source": [
    "def GaussianMAq(theta,sigma,H,I): \n",
    "    \"\"\"\n",
    "    INPUTS are as follows:\n",
    "\n",
    "1) theta: (q+1)x1 vector of MA coefficients (or 1*(q+1), it will be converted into an array)\n",
    "2) sigma: Variance of the Gaussian White Noise\n",
    "3) H:     Largest order of the covariance function (h-th order autocovariance)\n",
    "4) I:     Number of Monte-Carlo draws\n",
    "    \n",
    "    OUTPUTS are as follows:\n",
    "\n",
    "1) auto_cov_H: H+1 times 1 vector containing the MC estimators of the autocovariance function\n",
    "2) MC_std_error: \"standard error\" of the MC approximation\n",
    "    \n",
    "    \"\"\"\n",
    "    #%% Generate the epsilons\n",
    "    \n",
    "    import numpy as np\n",
    "    \n",
    "    q = np.shape(theta)[0]-1 \n",
    "    e = sigma*np.random.normal(0, sigma, [q+H+1,I])\n",
    "    \n",
    "    #I want to think about e as a matrix whose columns contain:\n",
    "    #(epsilon_H, epsilon_{H-1}, ... epsilon_1, \\epsilon_0, ..., epsilon_{-(q-1)})'\n",
    "    \n",
    "    #%% Generate the X's\n",
    "    \n",
    "    Xt    = np.matrix(np.zeros([H+1,I])) \n",
    "    \n",
    "    theta = np.matrix(theta)\n",
    "   \n",
    "    for i_h in range(H+1): \n",
    "        Xt[i_h,:] = theta * e[i_h:i_h+q+1, :]\n",
    "    \n",
    "    #%% Compute the Autocovariance Function\n",
    "    \n",
    "    from scipy import stats\n",
    "    \n",
    "    auto_cov_H   = np.zeros(H+1) \n",
    "    MC_std_error = np.zeros(H+1)\n",
    "    \n",
    "    for ind_j in range(H+1):\n",
    "        aux = (np.array(Xt[0,:])-np.mean(Xt[0,:]) ) * (np.array(Xt[ind_j,:])-np.mean(Xt[ind_j,:]) )\n",
    "    \n",
    "        auto_cov_H[ind_j]   = np.mean(aux)\n",
    "        MC_std_error[ind_j] = stats.sem(aux,ddof=0,axis = None) \n",
    "    \n",
    "        del aux \n",
    "        \n",
    "    #%% Plot 95% confidence interval of simulated covariance\n",
    "    \n",
    "    import matplotlib.pyplot as plt\n",
    "    \n",
    "    plt.plot(np.arange(0,H+1) , auto_cov_H, linestyle='none', marker='o',markersize=7)\n",
    "\n",
    "    plt.plot(np.arange(0,H+1) , auto_cov_H+1.96*MC_std_error, linestyle='none', marker='*', markersize=7)\n",
    "\n",
    "    plt.plot(np.arange(0,H+1) , auto_cov_H-1.96*MC_std_error, linestyle='none', marker='*', markersize=7)\n",
    "\n",
    "    plt.title('95% confidence interval of simulated covariance')\n",
    "    \n",
    "    #%% return output\n",
    "    \n",
    "    return auto_cov_H, MC_std_error;\n",
    "\n",
    "\n"
   ]
  },
  {
   "cell_type": "code",
   "execution_count": 15,
   "metadata": {},
   "outputs": [
    {
     "name": "stdout",
     "output_type": "stream",
     "text": [
      "I love time series!\n"
     ]
    }
   ],
   "source": [
    "# functions without return\n",
    "\n",
    "def printer(a):\n",
    "    print(a)\n",
    "\n",
    "printer(\"I love time series!\")"
   ]
  },
  {
   "cell_type": "code",
   "execution_count": 33,
   "metadata": {},
   "outputs": [
    {
     "name": "stdout",
     "output_type": "stream",
     "text": [
      "<class 'list'>\n",
      "<class 'numpy.ndarray'>\n",
      "<class 'numpy.matrixlib.defmatrix.matrix'>\n"
     ]
    }
   ],
   "source": [
    "import numpy as np\n",
    "\n",
    "a = [1,2,3]\n",
    "b = np.array(a)\n",
    "c = np.matrix(a)\n",
    "d = 1\n",
    "\n",
    "print(type(a))\n",
    "print(type(b))\n",
    "print(type(c))"
   ]
  },
  {
   "cell_type": "code",
   "execution_count": 34,
   "metadata": {},
   "outputs": [
    {
     "ename": "TypeError",
     "evalue": "unsupported operand type(s) for -: 'list' and 'int'",
     "output_type": "error",
     "traceback": [
      "\u001b[1;31m---------------------------------------------------------------------------\u001b[0m",
      "\u001b[1;31mTypeError\u001b[0m                                 Traceback (most recent call last)",
      "\u001b[1;32m<ipython-input-34-9f16325e4dd3>\u001b[0m in \u001b[0;36m<module>\u001b[1;34m\u001b[0m\n\u001b[1;32m----> 1\u001b[1;33m \u001b[0mprint\u001b[0m\u001b[1;33m(\u001b[0m\u001b[0ma\u001b[0m\u001b[1;33m-\u001b[0m\u001b[0md\u001b[0m\u001b[1;33m)\u001b[0m\u001b[1;33m\u001b[0m\u001b[1;33m\u001b[0m\u001b[0m\n\u001b[0m",
      "\u001b[1;31mTypeError\u001b[0m: unsupported operand type(s) for -: 'list' and 'int'"
     ]
    }
   ],
   "source": [
    "print(a-d)"
   ]
  },
  {
   "cell_type": "code",
   "execution_count": 35,
   "metadata": {},
   "outputs": [
    {
     "name": "stdout",
     "output_type": "stream",
     "text": [
      "[0 1 2]\n"
     ]
    }
   ],
   "source": [
    "print(b-d)"
   ]
  },
  {
   "cell_type": "code",
   "execution_count": 36,
   "metadata": {},
   "outputs": [
    {
     "name": "stdout",
     "output_type": "stream",
     "text": [
      "[[0 1 2]]\n"
     ]
    }
   ],
   "source": [
    "print(c-d)"
   ]
  },
  {
   "cell_type": "markdown",
   "metadata": {},
   "source": [
    "### Call a user defined function\n",
    "\n",
    "We have defined a function named GaussianMAq. Now we want to use this funtion in another file (using anaconda, VS...etc. not in Jupyter)\n",
    "\n",
    "* The function file(.py) must be in the same folder with your current program file.\n",
    "* Gaussian_MA_q is the name of the function file (Gaussian_MA_q.py). Do not include the extension when calling the function.\n",
    "* GaussianMAq is the name of the function.\n",
    "\n",
    "**Input parameters of the function:**\n",
    "* Type 1: Required Arguments: Simply plug in the value of each parameter in the correct order，without typing out the parameter.\n",
    "* Type 2: Keyword Arguments: Identify the arguments by their parameter names. In this way, we do not need to enter each arguments in the correct order.\n"
   ]
  },
  {
   "cell_type": "code",
   "execution_count": null,
   "metadata": {},
   "outputs": [],
   "source": [
    "# Required Arguments\n",
    "from Gaussian_MA_q import GaussianMAq\n",
    "\n",
    "MA_output = GaussianMAq([1,0.5,0.3,0.8], 1, 4, 1000)\n",
    "\n",
    "acf_H     = MA_output[0]\n",
    "MC_SD     = MA_output[1]\n",
    "\n",
    "print(pd.DataFrame(acf_H,columns={\"autocovariance function\"}))"
   ]
  },
  {
   "cell_type": "code",
   "execution_count": 52,
   "metadata": {},
   "outputs": [
    {
     "ename": "SyntaxError",
     "evalue": "invalid character in identifier (<ipython-input-52-026963c0292f>, line 4)",
     "output_type": "error",
     "traceback": [
      "\u001b[1;36m  File \u001b[1;32m\"<ipython-input-52-026963c0292f>\"\u001b[1;36m, line \u001b[1;32m4\u001b[0m\n\u001b[1;33m    MA_output = GaussianMAq(theta = [1,0.5,0.3，0.8],sigma = 1, H = 4, I = 1000)\u001b[0m\n\u001b[1;37m                                               ^\u001b[0m\n\u001b[1;31mSyntaxError\u001b[0m\u001b[1;31m:\u001b[0m invalid character in identifier\n"
     ]
    }
   ],
   "source": [
    "# Keywowrd Arguments\n",
    "from Gaussian_MA_q import GaussianMAq\n",
    "\n",
    "MA_output = GaussianMAq(theta = [1,0.5,0.3,0.8],sigma = 1, H = 4, I = 1000)\n",
    "\n",
    "acf_H     = MA_output[0]\n",
    "MC_SD     = MA_output[1]\n",
    "\n",
    "print(pd.DataFrame(acf_H,columns={\"autocovariance function\"}))\n"
   ]
  },
  {
   "cell_type": "code",
   "execution_count": 55,
   "metadata": {},
   "outputs": [
    {
     "data": {
      "text/html": [
       "<div>\n",
       "<style scoped>\n",
       "    .dataframe tbody tr th:only-of-type {\n",
       "        vertical-align: middle;\n",
       "    }\n",
       "\n",
       "    .dataframe tbody tr th {\n",
       "        vertical-align: top;\n",
       "    }\n",
       "\n",
       "    .dataframe thead th {\n",
       "        text-align: right;\n",
       "    }\n",
       "</style>\n",
       "<table border=\"1\" class=\"dataframe\">\n",
       "  <thead>\n",
       "    <tr style=\"text-align: right;\">\n",
       "      <th></th>\n",
       "      <th>autocovariance function</th>\n",
       "    </tr>\n",
       "  </thead>\n",
       "  <tbody>\n",
       "    <tr>\n",
       "      <th>0</th>\n",
       "      <td>2.040980</td>\n",
       "    </tr>\n",
       "    <tr>\n",
       "      <th>1</th>\n",
       "      <td>0.944337</td>\n",
       "    </tr>\n",
       "    <tr>\n",
       "      <th>2</th>\n",
       "      <td>0.766368</td>\n",
       "    </tr>\n",
       "    <tr>\n",
       "      <th>3</th>\n",
       "      <td>0.903815</td>\n",
       "    </tr>\n",
       "    <tr>\n",
       "      <th>4</th>\n",
       "      <td>0.042505</td>\n",
       "    </tr>\n",
       "  </tbody>\n",
       "</table>\n",
       "</div>"
      ],
      "text/plain": [
       "   autocovariance function\n",
       "0                 2.040980\n",
       "1                 0.944337\n",
       "2                 0.766368\n",
       "3                 0.903815\n",
       "4                 0.042505"
      ]
     },
     "execution_count": 55,
     "metadata": {},
     "output_type": "execute_result"
    },
    {
     "data": {
      "image/png": "[encoded data removed]",
      "text/plain": [
       "<Figure size 432x288 with 1 Axes>"
      ]
     },
     "metadata": {
      "needs_background": "light"
     },
     "output_type": "display_data"
    }
   ],
   "source": [
    "# For calling a defined function in Jupyter\n",
    "MA_output = GaussianMAq(sigma = 1,I = 1000,theta = [1,0.5,0.3,0.8],H = 4)\n",
    "\n",
    "acf_H     = MA_output[0]\n",
    "MC_SD     = MA_output[1]\n",
    "\n",
    "pd.DataFrame(acf_H,columns={\"autocovariance function\"})\n"
   ]
  },
  {
   "cell_type": "code",
   "execution_count": null,
   "metadata": {},
   "outputs": [],
   "source": []
  }
 ],
 "metadata": {
  "kernelspec": {
   "display_name": "Python 3",
   "language": "python",
   "name": "python3"
  },
  "language_info": {
   "codemirror_mode": {
    "name": "ipython",
    "version": 3
   },
   "file_extension": ".py",
   "mimetype": "text/x-python",
   "name": "python",
   "nbconvert_exporter": "python",
   "pygments_lexer": "ipython3",
   "version": "3.7.1"
  }
 },
 "nbformat": 4,
 "nbformat_minor": 2
}
