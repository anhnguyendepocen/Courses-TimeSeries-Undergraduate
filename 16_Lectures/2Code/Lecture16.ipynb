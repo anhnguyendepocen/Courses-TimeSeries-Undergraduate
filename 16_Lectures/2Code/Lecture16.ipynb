{
 "cells": [
  {
   "cell_type": "markdown",
   "metadata": {},
   "source": [
    "## Lecture 16 Bootstrap"
   ]
  },
  {
   "cell_type": "markdown",
   "metadata": {},
   "source": [
    "* **Use the bootstrap to construct standard errors/confidence intervals for the least squares estimators of $\\phi$ and $\\sigma^2$:**\n",
    "    * AR(1): $X_t =\\phi X_{t-1} + \\epsilon_t$, where $\\epsilon_t \\sim N(0,\\sigma^2)$ i.i.d\n",
    "* **Plot results and compare with normal distribution**"
   ]
  },
  {
   "cell_type": "markdown",
   "metadata": {},
   "source": [
    "Set up parameters.\n",
    "* Suppose that we have estimated $\\phi$ and $\\sigma^2$ using least squares on a sample of size $T=100$. Suppose we have\n",
    "\\[ \\widehat{\\phi} = .6635, \\: \\widehat{\\sigma}^2 = 1.8393  \\]\n",
    "Below we implement a parametric bootstrap procedure to estimate standard errors/confidence intervals for these parameters."
   ]
  },
  {
   "cell_type": "code",
   "execution_count": 7,
   "metadata": {
    "ExecuteTime": {
     "end_time": "2019-04-09T20:28:33.923113Z",
     "start_time": "2019-04-09T20:28:33.919124Z"
    }
   },
   "outputs": [],
   "source": [
    "class AR1_param:\n",
    "    def __init__(self):\n",
    "        self.phi = 0.6635\n",
    "        self.sigma2 = 1.8393\n",
    "\n",
    "AR1 = AR1_param()"
   ]
  },
  {
   "cell_type": "code",
   "execution_count": 8,
   "metadata": {
    "ExecuteTime": {
     "end_time": "2019-04-09T20:28:36.371537Z",
     "start_time": "2019-04-09T20:28:36.364999Z"
    }
   },
   "outputs": [
    {
     "data": {
      "text/plain": [
       "0.6635"
      ]
     },
     "execution_count": 8,
     "metadata": {},
     "output_type": "execute_result"
    }
   ],
   "source": [
    "AR1.phi"
   ]
  },
  {
   "cell_type": "code",
   "execution_count": 9,
   "metadata": {
    "ExecuteTime": {
     "end_time": "2019-04-09T20:28:52.625548Z",
     "start_time": "2019-04-09T20:28:52.620921Z"
    }
   },
   "outputs": [
    {
     "data": {
      "text/plain": [
       "1.8393"
      ]
     },
     "execution_count": 9,
     "metadata": {},
     "output_type": "execute_result"
    }
   ],
   "source": [
    "AR1.sigma2"
   ]
  },
  {
   "cell_type": "markdown",
   "metadata": {},
   "source": [
    "Import the class to current script."
   ]
  },
  {
   "cell_type": "code",
   "execution_count": 1,
   "metadata": {
    "ExecuteTime": {
     "end_time": "2019-04-09T18:29:51.762632Z",
     "start_time": "2019-04-09T18:29:51.757058Z"
    }
   },
   "outputs": [
    {
     "name": "stdout",
     "output_type": "stream",
     "text": [
      "0.6635\n",
      "1.8393\n"
     ]
    }
   ],
   "source": [
    "# Instead of defining the class directly, you can call this\n",
    "# directly from the working dir. \n",
    "\n",
    "# When using Spyder, adding path to sys first\n",
    "# import sys\n",
    "# sys.path.append('path')\n",
    "\n",
    "from AR1_param import AR1\n",
    "\n",
    "print(AR1.phi)\n",
    "\n",
    "print(AR1.sigma2)"
   ]
  },
  {
   "cell_type": "markdown",
   "metadata": {},
   "source": [
    "Simulate data sets to implement the parametric \"Bootstrap\" routine. Here we apply 1000 repetitions."
   ]
  },
  {
   "cell_type": "code",
   "execution_count": 10,
   "metadata": {
    "ExecuteTime": {
     "end_time": "2019-04-09T20:42:12.362727Z",
     "start_time": "2019-04-09T20:42:12.343825Z"
    }
   },
   "outputs": [],
   "source": [
    "import numpy as np\n",
    "\n",
    "import statsmodels.api as sm\n",
    "\n",
    "import time"
   ]
  },
  {
   "cell_type": "code",
   "execution_count": 11,
   "metadata": {
    "ExecuteTime": {
     "end_time": "2019-04-09T20:42:25.276154Z",
     "start_time": "2019-04-09T20:42:25.206293Z"
    }
   },
   "outputs": [],
   "source": [
    "sm.tsa.arma_generate_sample?"
   ]
  },
  {
   "cell_type": "code",
   "execution_count": 22,
   "metadata": {
    "ExecuteTime": {
     "end_time": "2019-04-09T21:25:56.111333Z",
     "start_time": "2019-04-09T21:25:52.898216Z"
    }
   },
   "outputs": [
    {
     "name": "stdout",
     "output_type": "stream",
     "text": [
      "The parametric bootstrap is running...\n",
      "The loop took 3.197558641433716 seconds to finish.\n"
     ]
    }
   ],
   "source": [
    "import numpy as np\n",
    "\n",
    "import statsmodels.api as sm\n",
    "\n",
    "import time\n",
    "\n",
    "T       = 1000    #This is the original sample size\n",
    "\n",
    "I       = 10000   #This is the number of bootstrap draws \n",
    "\n",
    "ar_param = np.array([1, -AR1.phi]) #AR component X_t + ceoff*X_{t-1}\n",
    "\n",
    "ma_param = np.array([1])           #MA component \\epsilon_t\n",
    "\n",
    "Xsim       = np.zeros([T,I])       #Matrix of covariates for OLS\n",
    "\n",
    "phi_OLS    = np.zeros(I)           #One estimator per artificial data set\n",
    "\n",
    "sigma2_OLS = np.zeros(I)   \n",
    "\n",
    "loop_start = time.time()\n",
    "\n",
    "print('The parametric bootstrap is running...')\n",
    "\n",
    "for i in range(I):  \n",
    "    \n",
    "    Xsim[:,i]     = sm.tsa.arma_generate_sample(ar=ar_param, ma=ma_param, nsample=T, sigma = AR1.sigma2**0.5, burnin=1000)\n",
    "    \n",
    "    Xaux          = np.matrix(Xsim[0:-1,i]) # Xaux is 1 by n\n",
    "\n",
    "    Yaux          = np.transpose(np.matrix(Xsim[1:,i])) # Yaux is n by 1\n",
    "    \n",
    "    phi_OLS[i]    = (np.linalg.inv(Xaux*np.transpose(Xaux))*Xaux*Yaux)[0,0]\n",
    "    \n",
    "    sigma2_OLS[i] = np.mean((np.array(np.transpose(Yaux))-phi_OLS[i]*np.array(Xaux))**2)\n",
    "\n",
    "loop_end = time.time()\n",
    "\n",
    "print(\"The loop took {} seconds to finish.\".format(loop_end-loop_start))\n"
   ]
  },
  {
   "cell_type": "markdown",
   "metadata": {},
   "source": [
    "Plot the histogram of $\\phi$ and $\\sigma^2$.\n",
    "* plt.hist():\n",
    "    * `x` denotes the target variable\n",
    "    * `bins` specifies the number of bars. By default, it is 10.\n",
    "    * `alpha` specifies the degree of transparancy of bars.\n",
    "    * `density` : a boolean argument. If True, values of the histogram bins will be the counts normalized to form a probability density, i.e., the area (or integral) under the histogram will sum to 1. This is achieved by dividing the count by the number of observations times the bin width and not dividing by the total number of observations. If `stacked` is also True, the sum of the histograms is normalized to 1. Default is False.\n",
    "    * `cumulative` : a boolean argument. If True, then a histogram is computed where each bin gives the counts in that bin plus all bins for smaller values. The last bin gives the total number of datapoints. If density is also True then the histogram is normalized such that the last bin equals 1(gives cdf). Default is False.\n",
    "* plt.subplot(nrows, ncols, index):\n",
    "    * The three integers are number of rows, number of columns, and index in order. The subplot will take the index position on a grid with nrows rows and ncols columns. index starts at 1 in the upper left corner and increases to the right.\n"
   ]
  },
  {
   "cell_type": "code",
   "execution_count": 23,
   "metadata": {
    "ExecuteTime": {
     "end_time": "2019-04-09T21:25:58.999885Z",
     "start_time": "2019-04-09T21:25:58.579540Z"
    },
    "scrolled": true
   },
   "outputs": [
    {
     "data": {
      "image/png": "[encoded data removed]",
      "text/plain": [
       "<Figure size 576x396 with 2 Axes>"
      ]
     },
     "metadata": {},
     "output_type": "display_data"
    }
   ],
   "source": [
    "import matplotlib.pyplot as plt\n",
    "\n",
    "plt.figure(1)\n",
    "\n",
    "plt.subplot(121)\n",
    "\n",
    "plt.hist(x=phi_OLS, bins = 20, facecolor='steelblue', alpha = 0.5)\n",
    "\n",
    "plt.xlabel(\"$\\phi_{OLS}$\")\n",
    "\n",
    "plt.subplot(122)\n",
    "\n",
    "plt.hist(x=sigma2_OLS, bins = 20, facecolor='steelblue', alpha = 0.5)\n",
    "\n",
    "plt.xlabel(\"$\\sigma^2_{OLS}$\")\n",
    "\n",
    "plt.show()"
   ]
  },
  {
   "cell_type": "markdown",
   "metadata": {},
   "source": [
    "We can get standard errors for the parameters of interest by looking at the quantiles of the distributions above"
   ]
  },
  {
   "cell_type": "code",
   "execution_count": 24,
   "metadata": {
    "ExecuteTime": {
     "end_time": "2019-04-09T21:26:02.863417Z",
     "start_time": "2019-04-09T21:26:02.856468Z"
    }
   },
   "outputs": [
    {
     "name": "stdout",
     "output_type": "stream",
     "text": [
      "The bootstrap 95% confidence interval for the phi_OLS is: [0.6136767726671104, 0.7076557099314079]\n",
      "The bootstrap 95% confidence interval for the sigma2_OLS is: [1.6821477832578664, 2.007676474890139]\n"
     ]
    }
   ],
   "source": [
    "qt_phi    = np.quantile(phi_OLS, [0.025, 0.975])\n",
    "\n",
    "qt_sigma2 = np.quantile(sigma2_OLS, [0.025, 0.975])\n",
    "\n",
    "CI_phi    = [qt_phi[0],qt_phi[1]]\n",
    "\n",
    "CI_sigma2 = [qt_sigma2[0],qt_sigma2[1]]\n",
    "\n",
    "print('The bootstrap 95% confidence interval for the phi_OLS is:', CI_phi)\n",
    "print('The bootstrap 95% confidence interval for the sigma2_OLS is:', CI_sigma2)"
   ]
  },
  {
   "cell_type": "markdown",
   "metadata": {},
   "source": [
    "Compare the empirical distribution of phihat with the normal approximation.\n",
    "* `statsmodels.ECDF`: Compute the empirical cumulative distribution function of data.\n",
    "    * Parameters:\n",
    "        * x (array-like): Observations. (also range of the data points)\n",
    "        * side ({'left', 'right'}, optional): Default is ‘right'. Define the shape of the intervals constituting the steps.‘right’correspond to [a, b) intervals and ‘left’ to (a, b].\n",
    "    * Returns: Empirical CDF as a step function.\n",
    "* np.linspace(start, stop, num): specify the observation. \n",
    "    * start and stop: the min and max of observations respectively\n",
    "    * num: Number of samples to generate. Default is 50.\n",
    "* In the output, the two arrays are outputs of plt.hist() with arguments of \"density\" and \"cumulative\". The first array is values of the normalized histogram bins. The second is edges of the bins: Length nbins + 1 (nbins left edges and right edge of last bin).\n"
   ]
  },
  {
   "cell_type": "code",
   "execution_count": 25,
   "metadata": {
    "ExecuteTime": {
     "end_time": "2019-04-09T21:26:06.833968Z",
     "start_time": "2019-04-09T21:26:06.512017Z"
    }
   },
   "outputs": [
    {
     "data": {
      "text/plain": [
       "(array([2.000e-04, 6.000e-04, 1.100e-03, 2.400e-03, 4.200e-03, 8.000e-03,\n",
       "        1.570e-02, 2.700e-02, 4.580e-02, 7.430e-02, 1.160e-01, 1.734e-01,\n",
       "        2.489e-01, 3.390e-01, 4.413e-01, 5.527e-01, 6.627e-01, 7.577e-01,\n",
       "        8.364e-01, 8.972e-01, 9.392e-01, 9.656e-01, 9.838e-01, 9.914e-01,\n",
       "        9.967e-01, 9.995e-01, 9.999e-01, 9.999e-01, 9.999e-01, 1.000e+00]),\n",
       " array([0.56283502, 0.56927573, 0.57571644, 0.58215715, 0.58859786,\n",
       "        0.59503858, 0.60147929, 0.60792   , 0.61436071, 0.62080142,\n",
       "        0.62724213, 0.63368284, 0.64012355, 0.64656426, 0.65300497,\n",
       "        0.65944569, 0.6658864 , 0.67232711, 0.67876782, 0.68520853,\n",
       "        0.69164924, 0.69808995, 0.70453066, 0.71097137, 0.71741208,\n",
       "        0.7238528 , 0.73029351, 0.73673422, 0.74317493, 0.74961564,\n",
       "        0.75605635]),\n",
       " <a list of 30 Patch objects>)"
      ]
     },
     "execution_count": 25,
     "metadata": {},
     "output_type": "execute_result"
    },
    {
     "data": {
      "image/png": "[encoded data removed]",
      "text/plain": [
       "<Figure size 576x396 with 1 Axes>"
      ]
     },
     "metadata": {},
     "output_type": "display_data"
    }
   ],
   "source": [
    "plt.style.use('seaborn') # pretty matplotlib plots, although not obvious here\n",
    "from scipy import stats\n",
    "from statsmodels.distributions.empirical_distribution import ECDF\n",
    "\n",
    "x = np.linspace(np.amin(phi_OLS), np.amax(phi_OLS), I)\n",
    "\n",
    "AsyVar=(1-(AR1.phi**2))/T\n",
    "norm_cdf = stats.norm.cdf(x,loc=AR1.phi, scale=AsyVar**0.5)\n",
    "\n",
    "ecdf = ECDF(phi_OLS)\n",
    "OLScdf = ecdf(x)\n",
    "\n",
    "plt.plot(x, norm_cdf, 'r--', lw=2, alpha=0.6)\n",
    "plt.plot(x, OLScdf, 'g-', lw=2, alpha=0.6)      # lw: line width\n",
    "plt.legend(['normal','OLS'], loc='upper left')\n",
    "plt.title('CDF')\n",
    "plt.hist(phi_OLS, alpha=0.3, bins = 30, cumulative= True, density = True)"
   ]
  },
  {
   "cell_type": "code",
   "execution_count": null,
   "metadata": {
    "ExecuteTime": {
     "end_time": "2019-04-01T22:45:54.018213Z",
     "start_time": "2019-04-01T22:45:54.009669Z"
    }
   },
   "outputs": [],
   "source": [
    "np.*?"
   ]
  },
  {
   "cell_type": "code",
   "execution_count": null,
   "metadata": {
    "ExecuteTime": {
     "end_time": "2019-04-01T22:46:51.063803Z",
     "start_time": "2019-04-01T22:46:51.008069Z"
    }
   },
   "outputs": [],
   "source": [
    "np.absolute?"
   ]
  },
  {
   "cell_type": "code",
   "execution_count": null,
   "metadata": {
    "ExecuteTime": {
     "end_time": "2019-04-01T22:47:05.629050Z",
     "start_time": "2019-04-01T22:47:05.621569Z"
    }
   },
   "outputs": [],
   "source": [
    "np.*?\n"
   ]
  },
  {
   "cell_type": "code",
   "execution_count": null,
   "metadata": {},
   "outputs": [],
   "source": []
  }
 ],
 "metadata": {
  "kernelspec": {
   "display_name": "Python 3",
   "language": "python",
   "name": "python3"
  },
  "language_info": {
   "codemirror_mode": {
    "name": "ipython",
    "version": 3
   },
   "file_extension": ".py",
   "mimetype": "text/x-python",
   "name": "python",
   "nbconvert_exporter": "python",
   "pygments_lexer": "ipython3",
   "version": "3.7.1"
  },
  "latex_envs": {
   "LaTeX_envs_menu_present": true,
   "autoclose": false,
   "autocomplete": true,
   "bibliofile": "biblio.bib",
   "cite_by": "apalike",
   "current_citInitial": 1,
   "eqLabelWithNumbers": true,
   "eqNumInitial": 1,
   "hotkeys": {
    "equation": "Ctrl-E",
    "itemize": "Ctrl-I"
   },
   "labels_anchors": false,
   "latex_user_defs": false,
   "report_style_numbering": false,
   "user_envs_cfg": false
  },
  "varInspector": {
   "cols": {
    "lenName": 16,
    "lenType": 16,
    "lenVar": 40
   },
   "kernels_config": {
    "python": {
     "delete_cmd_postfix": "",
     "delete_cmd_prefix": "del ",
     "library": "var_list.py",
     "varRefreshCmd": "print(var_dic_list())"
    },
    "r": {
     "delete_cmd_postfix": ") ",
     "delete_cmd_prefix": "rm(",
     "library": "var_list.r",
     "varRefreshCmd": "cat(var_dic_list()) "
    }
   },
   "types_to_exclude": [
    "module",
    "function",
    "builtin_function_or_method",
    "instance",
    "_Feature"
   ],
   "window_display": false
  }
 },
 "nbformat": 4,
 "nbformat_minor": 2
}
