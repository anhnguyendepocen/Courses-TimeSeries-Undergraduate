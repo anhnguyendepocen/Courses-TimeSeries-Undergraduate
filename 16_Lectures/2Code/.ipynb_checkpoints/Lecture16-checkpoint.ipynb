{
 "cells": [
  {
   "cell_type": "markdown",
   "metadata": {},
   "source": [
    "## Lecture 13-14 Bootstrap"
   ]
  },
  {
   "cell_type": "markdown",
   "metadata": {},
   "source": [
    "* **Use the bootstrap to construct standard errors/confidence intervals for the least squares estimators of $\\phi$ and $\\sigma^2$:**\n",
    "    * AR(1): $X_t =\\phi X_{t-1} + \\epsilon_t$, where $\\epsilon_t \\sim N(0,\\sigma^2)$ i.i.d\n",
    "* **Plot results and compare with normal distribution**"
   ]
  },
  {
   "cell_type": "markdown",
   "metadata": {},
   "source": [
    "Set up parameters.\n",
    "* Suppose that we have estimated $\\phi$ and $\\sigma^2$ using least squares on a sample of size $T=100$. Suppose we have\n",
    "\\[ \\widehat{\\phi} = .6635, \\: \\widehat{\\sigma}^2 = 1.8393  \\]\n",
    "Below we implement a parametric bootstrap procedure to estimate standard errors/confidence intervals for these parameters."
   ]
  },
  {
   "cell_type": "code",
   "execution_count": 1,
   "metadata": {
    "ExecuteTime": {
     "end_time": "2019-04-09T18:28:17.604182Z",
     "start_time": "2019-04-09T18:28:17.600492Z"
    }
   },
   "outputs": [],
   "source": [
    "class AR1_param:\n",
    "    def __init__(self):\n",
    "        self.phi = 0.6635\n",
    "        self.sigma2 = 1.8393\n",
    "\n",
    "AR1 = AR1_param()"
   ]
  },
  {
   "cell_type": "code",
   "execution_count": 2,
   "metadata": {
    "ExecuteTime": {
     "end_time": "2019-04-09T18:28:36.985153Z",
     "start_time": "2019-04-09T18:28:36.967970Z"
    }
   },
   "outputs": [
    {
     "data": {
      "text/plain": [
       "0.6635"
      ]
     },
     "execution_count": 2,
     "metadata": {},
     "output_type": "execute_result"
    }
   ],
   "source": [
    "AR1.phi"
   ]
  },
  {
   "cell_type": "markdown",
   "metadata": {},
   "source": [
    "Import the class to current script."
   ]
  },
  {
   "cell_type": "code",
   "execution_count": 3,
   "metadata": {
    "ExecuteTime": {
     "end_time": "2019-04-01T22:13:26.527569Z",
     "start_time": "2019-04-01T22:13:26.518586Z"
    }
   },
   "outputs": [
    {
     "name": "stdout",
     "output_type": "stream",
     "text": [
      "0.6635\n",
      "1.8393\n"
     ]
    }
   ],
   "source": [
    "# When using Spyder, adding path to sys first\n",
    "# import sys\n",
    "# sys.path.append('path')\n",
    "\n",
    "from AR1_param import AR1\n",
    "\n",
    "print(AR1.phi)\n",
    "\n",
    "print(AR1.sigma2)"
   ]
  },
  {
   "cell_type": "markdown",
   "metadata": {},
   "source": [
    "Simulate data sets to implement the parametric \"Bootstrap\" routine. Here we apply 1000 repetitions."
   ]
  },
  {
   "cell_type": "code",
   "execution_count": 3,
   "metadata": {
    "ExecuteTime": {
     "end_time": "2019-04-09T18:28:47.250894Z",
     "start_time": "2019-04-09T18:28:45.144447Z"
    }
   },
   "outputs": [
    {
     "name": "stdout",
     "output_type": "stream",
     "text": [
      "The parametric bootstrap is running...\n",
      "The loop took 0.17627191543579102 seconds to finish.\n"
     ]
    }
   ],
   "source": [
    "import numpy as np\n",
    "\n",
    "import statsmodels.api as sm\n",
    "\n",
    "import time\n",
    "\n",
    "T = 100\n",
    "\n",
    "I = 1000\n",
    "\n",
    "ar_param = np.array([1, -AR1.phi])\n",
    "\n",
    "ma_param = np.array([1])\n",
    "\n",
    "Xsim       = np.zeros([T,I])\n",
    "\n",
    "phi_OLS    = np.zeros(I)\n",
    "\n",
    "sigma2_OLS = np.zeros(I)\n",
    "\n",
    "loop_start = time.time()\n",
    "print('The parametric bootstrap is running...')\n",
    "\n",
    "for i in range(I):  \n",
    "    \n",
    "    Xsim[:,i]     = sm.tsa.arma_generate_sample(ar=ar_param, ma=ma_param, nsample=T, sigma = AR1.sigma2**0.5)\n",
    "    \n",
    "    Xaux          = np.matrix(Xsim[0:-1,i]) # Xaux is 1 by n\n",
    "\n",
    "    Yaux          = np.transpose(np.matrix(Xsim[1:,i])) # Yaux is n by 1\n",
    "    \n",
    "    phi_OLS[i]    = (np.linalg.inv(Xaux*np.transpose(Xaux))*Xaux*Yaux)[0,0]\n",
    "    \n",
    "    sigma2_OLS[i] = np.mean((np.array(np.transpose(Yaux))-phi_OLS[i]*np.array(Xaux))**2)\n",
    "\n",
    "loop_end = time.time()\n",
    "\n",
    "print(\"The loop took {} seconds to finish.\".format(loop_end-loop_start))\n"
   ]
  },
  {
   "cell_type": "markdown",
   "metadata": {},
   "source": [
    "Plot the histogram of $\\phi$ and $\\sigma^2$.\n",
    "* plt.hist():\n",
    "    * `x` denotes the target variable\n",
    "    * `bins` specifies the number of bars. By default, it is 10.\n",
    "    * `alpha` specifies the degree of transparancy of bars.\n",
    "    * `density` : a boolean argument. If True, values of the histogram bins will be the counts normalized to form a probability density, i.e., the area (or integral) under the histogram will sum to 1. This is achieved by dividing the count by the number of observations times the bin width and not dividing by the total number of observations. If `stacked` is also True, the sum of the histograms is normalized to 1. Default is False.\n",
    "    * `cumulative` : a boolean argument. If True, then a histogram is computed where each bin gives the counts in that bin plus all bins for smaller values. The last bin gives the total number of datapoints. If density is also True then the histogram is normalized such that the last bin equals 1(gives cdf). Default is False.\n",
    "* plt.subplot(nrows, ncols, index):\n",
    "    * The three integers are number of rows, number of columns, and index in order. The subplot will take the index position on a grid with nrows rows and ncols columns. index starts at 1 in the upper left corner and increases to the right.\n"
   ]
  },
  {
   "cell_type": "code",
   "execution_count": 5,
   "metadata": {
    "ExecuteTime": {
     "end_time": "2019-04-01T22:13:32.974620Z",
     "start_time": "2019-04-01T22:13:32.342264Z"
    },
    "scrolled": true
   },
   "outputs": [
    {
     "data": {
      "image/png": "[encoded data removed]",
      "text/plain": [
       "<Figure size 432x288 with 2 Axes>"
      ]
     },
     "metadata": {
      "needs_background": "light"
     },
     "output_type": "display_data"
    }
   ],
   "source": [
    "import matplotlib.pyplot as plt\n",
    "\n",
    "plt.figure(1)\n",
    "\n",
    "plt.subplot(121)\n",
    "\n",
    "plt.hist(x=phi_OLS, bins = 20, facecolor='steelblue', alpha = 0.5)\n",
    "\n",
    "plt.xlabel(\"$\\phi_{OLS}$\")\n",
    "\n",
    "plt.subplot(122)\n",
    "\n",
    "plt.hist(x=sigma2_OLS, bins = 20, facecolor='steelblue', alpha = 0.5)\n",
    "\n",
    "plt.xlabel(\"$\\sigma^2_{OLS}$\")\n",
    "\n",
    "plt.show()"
   ]
  },
  {
   "cell_type": "markdown",
   "metadata": {},
   "source": [
    "We can get standard errors for the parameters of interest by looking at the quantiles of the distributions above"
   ]
  },
  {
   "cell_type": "code",
   "execution_count": 6,
   "metadata": {
    "ExecuteTime": {
     "end_time": "2019-04-01T22:13:35.645687Z",
     "start_time": "2019-04-01T22:13:35.638106Z"
    }
   },
   "outputs": [
    {
     "name": "stdout",
     "output_type": "stream",
     "text": [
      "The bootstrap 95% confidence interval for the phi_OLS is: [0.4851655416744217, 0.5355674907663094]\n",
      "The bootstrap 95% confidence interval for the sigma2_OLS is: [1.3846413813816492, 1.4660368764812037]\n"
     ]
    }
   ],
   "source": [
    "qt_phi    = np.quantile(phi_OLS, [0.025, 0.075])\n",
    "\n",
    "qt_sigma2 = np.quantile(sigma2_OLS, [0.025, 0.075])\n",
    "\n",
    "CI_phi    = [qt_phi[0],qt_phi[1]]\n",
    "\n",
    "CI_sigma2 = [qt_sigma2[0],qt_sigma2[1]]\n",
    "\n",
    "print('The bootstrap 95% confidence interval for the phi_OLS is:', CI_phi)\n",
    "print('The bootstrap 95% confidence interval for the sigma2_OLS is:', CI_sigma2)"
   ]
  },
  {
   "cell_type": "markdown",
   "metadata": {},
   "source": [
    "Compare the empirical distribution of phihat with the normal approximation.\n",
    "* `statsmodels.ECDF`: Compute the empirical cumulative distribution function of data.\n",
    "    * Parameters:\n",
    "        * x (array-like): Observations. (also range of the data points)\n",
    "        * side ({'left', 'right'}, optional): Default is ‘right'. Define the shape of the intervals constituting the steps.‘right’correspond to [a, b) intervals and ‘left’ to (a, b].\n",
    "    * Returns: Empirical CDF as a step function.\n",
    "* np.linspace(start, stop, num): specify the observation. \n",
    "    * start and stop: the min and max of observations respectively\n",
    "    * num: Number of samples to generate. Default is 50.\n",
    "* In the output, the two arrays are outputs of plt.hist() with arguments of \"density\" and \"cumulative\". The first array is values of the normalized histogram bins. The second is edges of the bins: Length nbins + 1 (nbins left edges and right edge of last bin).\n"
   ]
  },
  {
   "cell_type": "code",
   "execution_count": 9,
   "metadata": {},
   "outputs": [
    {
     "data": {
      "text/plain": [
       "(array([0.001, 0.001, 0.002, 0.004, 0.005, 0.005, 0.015, 0.025, 0.041,\n",
       "        0.062, 0.099, 0.129, 0.168, 0.216, 0.282, 0.347, 0.424, 0.513,\n",
       "        0.605, 0.676, 0.778, 0.843, 0.908, 0.951, 0.976, 0.99 , 0.996,\n",
       "        0.999, 0.999, 1.   ]),\n",
       " array([0.36852433, 0.38485383, 0.40118334, 0.41751285, 0.43384236,\n",
       "        0.45017187, 0.46650137, 0.48283088, 0.49916039, 0.5154899 ,\n",
       "        0.53181941, 0.54814891, 0.56447842, 0.58080793, 0.59713744,\n",
       "        0.61346695, 0.62979645, 0.64612596, 0.66245547, 0.67878498,\n",
       "        0.69511449, 0.71144399, 0.7277735 , 0.74410301, 0.76043252,\n",
       "        0.77676203, 0.79309153, 0.80942104, 0.82575055, 0.84208006,\n",
       "        0.85840957]),\n",
       " <a list of 30 Patch objects>)"
      ]
     },
     "execution_count": 9,
     "metadata": {},
     "output_type": "execute_result"
    },
    {
     "data": {
      "image/png": "[encoded data removed]",
      "text/plain": [
       "<Figure size 576x396 with 1 Axes>"
      ]
     },
     "metadata": {},
     "output_type": "display_data"
    }
   ],
   "source": [
    "plt.style.use('seaborn') # pretty matplotlib plots, although not obvious here\n",
    "from scipy import stats\n",
    "from statsmodels.distributions.empirical_distribution import ECDF\n",
    "\n",
    "x = np.linspace(np.amin(phi_OLS), np.amax(phi_OLS), I)\n",
    "\n",
    "AsyVar=(1-(AR1.phi**2))/T\n",
    "norm_cdf = stats.norm.cdf(x,loc=AR1.phi, scale=AsyVar**0.5)\n",
    "\n",
    "ecdf = ECDF(phi_OLS)\n",
    "OLScdf = ecdf(x)\n",
    "\n",
    "plt.plot(x, norm_cdf, 'r--', lw=2, alpha=0.6)\n",
    "plt.plot(x, OLScdf, 'g-', lw=2, alpha=0.6)      # lw: line width\n",
    "plt.legend(['normal','OLS'], loc='upper left')\n",
    "plt.title('CDF')\n",
    "plt.hist(phi_OLS, alpha=0.3, bins = 30, cumulative= True, density = True)"
   ]
  },
  {
   "cell_type": "code",
   "execution_count": 9,
   "metadata": {
    "ExecuteTime": {
     "end_time": "2019-04-01T22:45:54.018213Z",
     "start_time": "2019-04-01T22:45:54.009669Z"
    }
   },
   "outputs": [],
   "source": [
    "np.*?"
   ]
  },
  {
   "cell_type": "code",
   "execution_count": 10,
   "metadata": {
    "ExecuteTime": {
     "end_time": "2019-04-01T22:46:51.063803Z",
     "start_time": "2019-04-01T22:46:51.008069Z"
    }
   },
   "outputs": [],
   "source": [
    "np.absolute?"
   ]
  },
  {
   "cell_type": "code",
   "execution_count": 11,
   "metadata": {
    "ExecuteTime": {
     "end_time": "2019-04-01T22:47:05.629050Z",
     "start_time": "2019-04-01T22:47:05.621569Z"
    }
   },
   "outputs": [],
   "source": [
    "np.*?\n"
   ]
  },
  {
   "cell_type": "code",
   "execution_count": null,
   "metadata": {},
   "outputs": [],
   "source": []
  }
 ],
 "metadata": {
  "kernelspec": {
   "display_name": "Python 3",
   "language": "python",
   "name": "python3"
  },
  "language_info": {
   "codemirror_mode": {
    "name": "ipython",
    "version": 3
   },
   "file_extension": ".py",
   "mimetype": "text/x-python",
   "name": "python",
   "nbconvert_exporter": "python",
   "pygments_lexer": "ipython3",
   "version": "3.7.1"
  },
  "latex_envs": {
   "LaTeX_envs_menu_present": true,
   "autoclose": false,
   "autocomplete": true,
   "bibliofile": "biblio.bib",
   "cite_by": "apalike",
   "current_citInitial": 1,
   "eqLabelWithNumbers": true,
   "eqNumInitial": 1,
   "hotkeys": {
    "equation": "Ctrl-E",
    "itemize": "Ctrl-I"
   },
   "labels_anchors": false,
   "latex_user_defs": false,
   "report_style_numbering": false,
   "user_envs_cfg": false
  },
  "varInspector": {
   "cols": {
    "lenName": 16,
    "lenType": 16,
    "lenVar": 40
   },
   "kernels_config": {
    "python": {
     "delete_cmd_postfix": "",
     "delete_cmd_prefix": "del ",
     "library": "var_list.py",
     "varRefreshCmd": "print(var_dic_list())"
    },
    "r": {
     "delete_cmd_postfix": ") ",
     "delete_cmd_prefix": "rm(",
     "library": "var_list.r",
     "varRefreshCmd": "cat(var_dic_list()) "
    }
   },
   "types_to_exclude": [
    "module",
    "function",
    "builtin_function_or_method",
    "instance",
    "_Feature"
   ],
   "window_display": false
  }
 },
 "nbformat": 4,
 "nbformat_minor": 2
}
